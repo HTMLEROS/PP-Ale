{
 "cells": [
  {
   "cell_type": "markdown",
   "id": "0d33664f-6d32-4f66-baf7-5cc4c4c25d69",
   "metadata": {},
   "source": [
    "# Actividad 9\n",
    "# 🔍 Parte 1: Análisis de Lagos Argentinos con Python\n",
    "Objetivo: Repasar manipulación de datos con Pandas e introducir valores nulos y mapas con Folium.\n",
    "\n"
   ]
  },
  {
   "cell_type": "markdown",
   "id": "0e0b8025-f70f-4327-9987-b8c1d99a2ce9",
   "metadata": {},
   "source": [
    "#  La información de nuestros datos \n",
    "* ¿Cómo comunicamos la información analizada sobre los datos?\n",
    "* ¿Cómo conocemos la composición de los datos?\n",
    "* ¿Qué recursos podemos usar para comunicar los resultados de los análisis?:\n",
    "    * Cantidad de lagos por provincia.\n",
    "    * Cantidad de lagos por tamaño.\n",
    "  "
   ]
  },
  {
   "cell_type": "markdown",
   "id": "88662355-e8f2-4c2a-869e-9867649e5fd3",
   "metadata": {},
   "source": [
    "# ✅ Etapa 1: Exploración Básica (10 min)\n",
    "* Consigna 1: Cargá el dataset y utiliza las operaciones básicas para conocer el contenido del dataset:\n",
    "* [Lagos Argentinos](https://archivos.linti.unlp.edu.ar/index.php/s/LBNPS7EdmNSwt8z).\n",
    "    * Nombre del archivo: lagos_arg.csv\n",
    "    * Descargado de: https://www.ign.gob.ar/NuestrasActividades/Geografia/DatosArgentina/Lagos\n",
    "* Cantidad de filas y columans\n",
    "* Nombres de las columnas\n",
    "* Tipos de datos de las columnas\n",
    "* Ver las primeras 10 filas del dataset"
   ]
  },
  {
   "cell_type": "code",
   "execution_count": 3,
   "id": "0b6ac24f-ec93-4c01-ac05-95810d6385c4",
   "metadata": {},
   "outputs": [
    {
     "name": "stdout",
     "output_type": "stream",
     "text": [
      "Requirement already satisfied: plotly in ./env/lib/python3.13/site-packages (6.3.0)\n",
      "Requirement already satisfied: narwhals>=1.15.1 in ./env/lib/python3.13/site-packages (from plotly) (2.1.2)\n",
      "Requirement already satisfied: packaging in ./env/lib/python3.13/site-packages (from plotly) (25.0)\n"
     ]
    }
   ],
   "source": [
    "!pip install plotly\n",
    "\n",
    "import pandas as pd\n",
    "import plotly.express as pl\n",
    "\n",
    "lagos=pd.read_csv(\"lagos_arg.csv\")"
   ]
  },
  {
   "cell_type": "markdown",
   "id": "a568ff9c-e2f7-44cf-8d81-6795e289dfd2",
   "metadata": {},
   "source": [
    "## La cantidad de filas y columnas del dataset"
   ]
  },
  {
   "cell_type": "code",
   "execution_count": 6,
   "id": "a3d8bd92-9c58-4681-b718-b14bcd9d3fdc",
   "metadata": {},
   "outputs": [
    {
     "data": {
      "text/plain": [
       "(52, 11)"
      ]
     },
     "execution_count": 6,
     "metadata": {},
     "output_type": "execute_result"
    }
   ],
   "source": [
    "lagos.shape"
   ]
  },
  {
   "cell_type": "markdown",
   "id": "f8e8d497-efb8-4678-9e52-0c9d141cd6c1",
   "metadata": {},
   "source": [
    "## Nombres de las columnas"
   ]
  },
  {
   "cell_type": "code",
   "execution_count": 9,
   "id": "cf1f7664-4ae3-4a43-9ffc-0f72af6b93d5",
   "metadata": {},
   "outputs": [
    {
     "data": {
      "text/plain": [
       "Index(['Nombre', 'Ubicación', 'Superficie (km²)', 'Profundidad máxima (m)',\n",
       "       'Profundidad media (m)', 'Coordenadas', 'Sup Tamaño', 'Latitud en GMS',\n",
       "       'Longitud en GMS', 'lat', 'lng'],\n",
       "      dtype='object')"
      ]
     },
     "execution_count": 9,
     "metadata": {},
     "output_type": "execute_result"
    }
   ],
   "source": [
    "lagos.columns"
   ]
  },
  {
   "cell_type": "markdown",
   "id": "93b30bb2-9b7f-4211-81a1-3ae8a2c2c3d1",
   "metadata": {},
   "source": [
    "## Tipo de datos de las columnas"
   ]
  },
  {
   "cell_type": "code",
   "execution_count": 41,
   "id": "71173365-4d85-4742-a913-4767e791e10e",
   "metadata": {},
   "outputs": [
    {
     "data": {
      "text/plain": [
       "Nombre                     object\n",
       "Ubicación                  object\n",
       "Superficie (km²)            int64\n",
       "Profundidad máxima (m)    float64\n",
       "Profundidad media (m)     float64\n",
       "Coordenadas                object\n",
       "Sup Tamaño                 object\n",
       "Latitud en GMS             object\n",
       "Longitud en GMS            object\n",
       "lat                       float64\n",
       "lng                       float64\n",
       "dtype: object"
      ]
     },
     "execution_count": 41,
     "metadata": {},
     "output_type": "execute_result"
    }
   ],
   "source": [
    "lagos.dtypes"
   ]
  },
  {
   "cell_type": "markdown",
   "id": "cc56a499-0f42-4643-9425-5d3660b3b156",
   "metadata": {},
   "source": [
    "## Primeras 10 filas del dataset"
   ]
  },
  {
   "cell_type": "code",
   "execution_count": 10,
   "id": "42ec31f6-20c4-40d2-8abc-fd15ba40dabb",
   "metadata": {},
   "outputs": [
    {
     "data": {
      "text/html": [
       "<div>\n",
       "<style scoped>\n",
       "    .dataframe tbody tr th:only-of-type {\n",
       "        vertical-align: middle;\n",
       "    }\n",
       "\n",
       "    .dataframe tbody tr th {\n",
       "        vertical-align: top;\n",
       "    }\n",
       "\n",
       "    .dataframe thead th {\n",
       "        text-align: right;\n",
       "    }\n",
       "</style>\n",
       "<table border=\"1\" class=\"dataframe\">\n",
       "  <thead>\n",
       "    <tr style=\"text-align: right;\">\n",
       "      <th></th>\n",
       "      <th>Nombre</th>\n",
       "      <th>Ubicación</th>\n",
       "      <th>Superficie (km²)</th>\n",
       "      <th>Profundidad máxima (m)</th>\n",
       "      <th>Profundidad media (m)</th>\n",
       "      <th>Coordenadas</th>\n",
       "      <th>Sup Tamaño</th>\n",
       "      <th>Latitud en GMS</th>\n",
       "      <th>Longitud en GMS</th>\n",
       "      <th>lat</th>\n",
       "      <th>lng</th>\n",
       "    </tr>\n",
       "  </thead>\n",
       "  <tbody>\n",
       "    <tr>\n",
       "      <th>0</th>\n",
       "      <td>Lago Argentino</td>\n",
       "      <td>Santa Cruz</td>\n",
       "      <td>1435</td>\n",
       "      <td>500.0</td>\n",
       "      <td>150.0</td>\n",
       "      <td>50°14'53\"S 72°38'43\"O</td>\n",
       "      <td>grande</td>\n",
       "      <td>50°14'53\"S</td>\n",
       "      <td>72°38'43\"O</td>\n",
       "      <td>-50.248056</td>\n",
       "      <td>-72.645278</td>\n",
       "    </tr>\n",
       "    <tr>\n",
       "      <th>1</th>\n",
       "      <td>Lago Viedma</td>\n",
       "      <td>Santa Cruz</td>\n",
       "      <td>1166</td>\n",
       "      <td>NaN</td>\n",
       "      <td>NaN</td>\n",
       "      <td>49°37'27\"S 72°29'42\"O</td>\n",
       "      <td>grande</td>\n",
       "      <td>49°37'27\"S</td>\n",
       "      <td>72°29'42\"O</td>\n",
       "      <td>-49.624167</td>\n",
       "      <td>-72.495000</td>\n",
       "    </tr>\n",
       "    <tr>\n",
       "      <th>2</th>\n",
       "      <td>Lago Nahuel Huapi</td>\n",
       "      <td>Río Negro / Neuquén</td>\n",
       "      <td>540</td>\n",
       "      <td>464.0</td>\n",
       "      <td>157.0</td>\n",
       "      <td>40°51'16\"S 71°36'58\"O</td>\n",
       "      <td>grande</td>\n",
       "      <td>40°51'16\"S</td>\n",
       "      <td>71°36'58\"O</td>\n",
       "      <td>-40.854444</td>\n",
       "      <td>-71.616111</td>\n",
       "    </tr>\n",
       "    <tr>\n",
       "      <th>3</th>\n",
       "      <td>Lago Musters</td>\n",
       "      <td>Chubut</td>\n",
       "      <td>427</td>\n",
       "      <td>39.0</td>\n",
       "      <td>20.0</td>\n",
       "      <td>45°24'53\"S 69°11'52\"O</td>\n",
       "      <td>grande</td>\n",
       "      <td>45°24'53\"S</td>\n",
       "      <td>69°11'52\"O</td>\n",
       "      <td>-45.414722</td>\n",
       "      <td>-69.197778</td>\n",
       "    </tr>\n",
       "    <tr>\n",
       "      <th>4</th>\n",
       "      <td>Lago Cardiel</td>\n",
       "      <td>Santa Cruz</td>\n",
       "      <td>358</td>\n",
       "      <td>NaN</td>\n",
       "      <td>49.0</td>\n",
       "      <td>48°55'3\"S 71°12'53\"O</td>\n",
       "      <td>grande</td>\n",
       "      <td>48°55'3\"S</td>\n",
       "      <td>71°12'53\"O</td>\n",
       "      <td>-48.917500</td>\n",
       "      <td>-71.214722</td>\n",
       "    </tr>\n",
       "    <tr>\n",
       "      <th>5</th>\n",
       "      <td>Lago Epecuén</td>\n",
       "      <td>Buenos Aires</td>\n",
       "      <td>156</td>\n",
       "      <td>11.0</td>\n",
       "      <td>7.0</td>\n",
       "      <td>37°7'45\"S 62°51'53\"O</td>\n",
       "      <td>grande</td>\n",
       "      <td>37°7'45\"S</td>\n",
       "      <td>62°51'53\"O</td>\n",
       "      <td>-37.129167</td>\n",
       "      <td>-62.864722</td>\n",
       "    </tr>\n",
       "    <tr>\n",
       "      <th>6</th>\n",
       "      <td>Lago Pellegrini</td>\n",
       "      <td>Río Negro</td>\n",
       "      <td>116</td>\n",
       "      <td>NaN</td>\n",
       "      <td>NaN</td>\n",
       "      <td>38°42'25\"S 67°58'23\"O</td>\n",
       "      <td>grande</td>\n",
       "      <td>38°42'25\"S</td>\n",
       "      <td>67°58'23\"O</td>\n",
       "      <td>-38.706944</td>\n",
       "      <td>-67.973056</td>\n",
       "    </tr>\n",
       "    <tr>\n",
       "      <th>7</th>\n",
       "      <td>Lago Strobel</td>\n",
       "      <td>Santa Cruz</td>\n",
       "      <td>100</td>\n",
       "      <td>NaN</td>\n",
       "      <td>NaN</td>\n",
       "      <td>48°25'58\"S 71°11'25\"O</td>\n",
       "      <td>grande</td>\n",
       "      <td>48°25'58\"S</td>\n",
       "      <td>71°11'25\"O</td>\n",
       "      <td>-48.432778</td>\n",
       "      <td>-71.190278</td>\n",
       "    </tr>\n",
       "    <tr>\n",
       "      <th>8</th>\n",
       "      <td>Lago Fontana</td>\n",
       "      <td>Chubut</td>\n",
       "      <td>84</td>\n",
       "      <td>NaN</td>\n",
       "      <td>79.0</td>\n",
       "      <td>44°55'17\"S 71°29'45\"O</td>\n",
       "      <td>grande</td>\n",
       "      <td>44°55'17\"S</td>\n",
       "      <td>71°29'45\"O</td>\n",
       "      <td>-44.921389</td>\n",
       "      <td>-71.495833</td>\n",
       "    </tr>\n",
       "    <tr>\n",
       "      <th>9</th>\n",
       "      <td>Lago Huechulafquen</td>\n",
       "      <td>Neuquén</td>\n",
       "      <td>84</td>\n",
       "      <td>NaN</td>\n",
       "      <td>142.0</td>\n",
       "      <td>39°46'28\"S 71°30'32\"O</td>\n",
       "      <td>grande</td>\n",
       "      <td>39°46'28\"S</td>\n",
       "      <td>71°30'32\"O</td>\n",
       "      <td>-39.774444</td>\n",
       "      <td>-71.508889</td>\n",
       "    </tr>\n",
       "  </tbody>\n",
       "</table>\n",
       "</div>"
      ],
      "text/plain": [
       "               Nombre            Ubicación  Superficie (km²)  \\\n",
       "0      Lago Argentino           Santa Cruz              1435   \n",
       "1         Lago Viedma           Santa Cruz              1166   \n",
       "2   Lago Nahuel Huapi  Río Negro / Neuquén               540   \n",
       "3        Lago Musters               Chubut               427   \n",
       "4        Lago Cardiel           Santa Cruz               358   \n",
       "5        Lago Epecuén         Buenos Aires               156   \n",
       "6     Lago Pellegrini            Río Negro               116   \n",
       "7        Lago Strobel           Santa Cruz               100   \n",
       "8        Lago Fontana               Chubut                84   \n",
       "9  Lago Huechulafquen              Neuquén                84   \n",
       "\n",
       "   Profundidad máxima (m)  Profundidad media (m)            Coordenadas  \\\n",
       "0                   500.0                  150.0  50°14'53\"S 72°38'43\"O   \n",
       "1                     NaN                    NaN  49°37'27\"S 72°29'42\"O   \n",
       "2                   464.0                  157.0  40°51'16\"S 71°36'58\"O   \n",
       "3                    39.0                   20.0  45°24'53\"S 69°11'52\"O   \n",
       "4                     NaN                   49.0   48°55'3\"S 71°12'53\"O   \n",
       "5                    11.0                    7.0   37°7'45\"S 62°51'53\"O   \n",
       "6                     NaN                    NaN  38°42'25\"S 67°58'23\"O   \n",
       "7                     NaN                    NaN  48°25'58\"S 71°11'25\"O   \n",
       "8                     NaN                   79.0  44°55'17\"S 71°29'45\"O   \n",
       "9                     NaN                  142.0  39°46'28\"S 71°30'32\"O   \n",
       "\n",
       "  Sup Tamaño Latitud en GMS Longitud en GMS        lat        lng  \n",
       "0     grande     50°14'53\"S      72°38'43\"O -50.248056 -72.645278  \n",
       "1     grande     49°37'27\"S      72°29'42\"O -49.624167 -72.495000  \n",
       "2     grande     40°51'16\"S      71°36'58\"O -40.854444 -71.616111  \n",
       "3     grande     45°24'53\"S      69°11'52\"O -45.414722 -69.197778  \n",
       "4     grande      48°55'3\"S      71°12'53\"O -48.917500 -71.214722  \n",
       "5     grande      37°7'45\"S      62°51'53\"O -37.129167 -62.864722  \n",
       "6     grande     38°42'25\"S      67°58'23\"O -38.706944 -67.973056  \n",
       "7     grande     48°25'58\"S      71°11'25\"O -48.432778 -71.190278  \n",
       "8     grande     44°55'17\"S      71°29'45\"O -44.921389 -71.495833  \n",
       "9     grande     39°46'28\"S      71°30'32\"O -39.774444 -71.508889  "
      ]
     },
     "execution_count": 10,
     "metadata": {},
     "output_type": "execute_result"
    }
   ],
   "source": [
    "lagos.head(10)"
   ]
  },
  {
   "cell_type": "markdown",
   "id": "2f4d05fa-4676-4b54-8e55-8399b2d080f9",
   "metadata": {},
   "source": [
    "# ✅ Etapa 2: Análisis por Provincia (15 min)\n",
    "* ¿En qué provincias hay lagos?\n",
    "* Cantidad de Lagos por provincia.\n",
    "* Gráfico de torta sobre la cantidad de lagos provincia.\n",
    "* Gráfico de barra sobre la cantidad de lagos provincia."
   ]
  },
  {
   "cell_type": "markdown",
   "id": "43cb70b5-4189-4527-a86e-2e51a36be85c",
   "metadata": {},
   "source": [
    "## Cantidad de Lagos por provincia"
   ]
  },
  {
   "cell_type": "code",
   "execution_count": 6,
   "id": "e2be9437-6584-4909-a5d5-3007c389b44a",
   "metadata": {},
   "outputs": [
    {
     "data": {
      "text/plain": [
       "Ubicación\n",
       "Santa Cruz                                               16\n",
       "Neuquén                                                  14\n",
       "Chubut                                                   13\n",
       "Río Negro                                                 4\n",
       "Tierra del Fuego, Antártida e Islas del Atlántico Sur     3\n",
       "Río Negro / Neuquén                                       1\n",
       "Buenos Aires                                              1\n",
       "Name: count, dtype: int64"
      ]
     },
     "execution_count": 6,
     "metadata": {},
     "output_type": "execute_result"
    }
   ],
   "source": [
    "cantidad=lagos[\"Ubicación\"].value_counts()\n",
    "cantidad"
   ]
  },
  {
   "cell_type": "markdown",
   "id": "c3b7af8f-a73a-44f6-9976-a133ac8c55a4",
   "metadata": {},
   "source": [
    "## Gráfico de torta sobre la cantidad de lagos provincia"
   ]
  },
  {
   "cell_type": "code",
   "execution_count": 10,
   "id": "0fe236b0-02df-4274-bb4e-61280feee90b",
   "metadata": {
    "scrolled": true
   },
   "outputs": [
    {
     "data": {
      "application/vnd.plotly.v1+json": {
       "config": {
        "plotlyServerURL": "https://plot.ly"
       },
       "data": [
        {
         "domain": {
          "x": [
           0,
           1
          ],
          "y": [
           0,
           1
          ]
         },
         "hovertemplate": "Ubicación=%{label}<br>count=%{value}<extra></extra>",
         "labels": [
          "Santa Cruz",
          "Neuquén",
          "Chubut",
          "Río Negro",
          "Tierra del Fuego, Antártida e Islas del Atlántico Sur",
          "Río Negro / Neuquén",
          "Buenos Aires"
         ],
         "legendgroup": "",
         "name": "",
         "showlegend": true,
         "type": "pie",
         "values": {
          "bdata": "EA4NBAMBAQ==",
          "dtype": "i1"
         }
        }
       ],
       "layout": {
        "legend": {
         "tracegroupgap": 0
        },
        "template": {
         "data": {
          "bar": [
           {
            "error_x": {
             "color": "#2a3f5f"
            },
            "error_y": {
             "color": "#2a3f5f"
            },
            "marker": {
             "line": {
              "color": "#E5ECF6",
              "width": 0.5
             },
             "pattern": {
              "fillmode": "overlay",
              "size": 10,
              "solidity": 0.2
             }
            },
            "type": "bar"
           }
          ],
          "barpolar": [
           {
            "marker": {
             "line": {
              "color": "#E5ECF6",
              "width": 0.5
             },
             "pattern": {
              "fillmode": "overlay",
              "size": 10,
              "solidity": 0.2
             }
            },
            "type": "barpolar"
           }
          ],
          "carpet": [
           {
            "aaxis": {
             "endlinecolor": "#2a3f5f",
             "gridcolor": "white",
             "linecolor": "white",
             "minorgridcolor": "white",
             "startlinecolor": "#2a3f5f"
            },
            "baxis": {
             "endlinecolor": "#2a3f5f",
             "gridcolor": "white",
             "linecolor": "white",
             "minorgridcolor": "white",
             "startlinecolor": "#2a3f5f"
            },
            "type": "carpet"
           }
          ],
          "choropleth": [
           {
            "colorbar": {
             "outlinewidth": 0,
             "ticks": ""
            },
            "type": "choropleth"
           }
          ],
          "contour": [
           {
            "colorbar": {
             "outlinewidth": 0,
             "ticks": ""
            },
            "colorscale": [
             [
              0,
              "#0d0887"
             ],
             [
              0.1111111111111111,
              "#46039f"
             ],
             [
              0.2222222222222222,
              "#7201a8"
             ],
             [
              0.3333333333333333,
              "#9c179e"
             ],
             [
              0.4444444444444444,
              "#bd3786"
             ],
             [
              0.5555555555555556,
              "#d8576b"
             ],
             [
              0.6666666666666666,
              "#ed7953"
             ],
             [
              0.7777777777777778,
              "#fb9f3a"
             ],
             [
              0.8888888888888888,
              "#fdca26"
             ],
             [
              1,
              "#f0f921"
             ]
            ],
            "type": "contour"
           }
          ],
          "contourcarpet": [
           {
            "colorbar": {
             "outlinewidth": 0,
             "ticks": ""
            },
            "type": "contourcarpet"
           }
          ],
          "heatmap": [
           {
            "colorbar": {
             "outlinewidth": 0,
             "ticks": ""
            },
            "colorscale": [
             [
              0,
              "#0d0887"
             ],
             [
              0.1111111111111111,
              "#46039f"
             ],
             [
              0.2222222222222222,
              "#7201a8"
             ],
             [
              0.3333333333333333,
              "#9c179e"
             ],
             [
              0.4444444444444444,
              "#bd3786"
             ],
             [
              0.5555555555555556,
              "#d8576b"
             ],
             [
              0.6666666666666666,
              "#ed7953"
             ],
             [
              0.7777777777777778,
              "#fb9f3a"
             ],
             [
              0.8888888888888888,
              "#fdca26"
             ],
             [
              1,
              "#f0f921"
             ]
            ],
            "type": "heatmap"
           }
          ],
          "histogram": [
           {
            "marker": {
             "pattern": {
              "fillmode": "overlay",
              "size": 10,
              "solidity": 0.2
             }
            },
            "type": "histogram"
           }
          ],
          "histogram2d": [
           {
            "colorbar": {
             "outlinewidth": 0,
             "ticks": ""
            },
            "colorscale": [
             [
              0,
              "#0d0887"
             ],
             [
              0.1111111111111111,
              "#46039f"
             ],
             [
              0.2222222222222222,
              "#7201a8"
             ],
             [
              0.3333333333333333,
              "#9c179e"
             ],
             [
              0.4444444444444444,
              "#bd3786"
             ],
             [
              0.5555555555555556,
              "#d8576b"
             ],
             [
              0.6666666666666666,
              "#ed7953"
             ],
             [
              0.7777777777777778,
              "#fb9f3a"
             ],
             [
              0.8888888888888888,
              "#fdca26"
             ],
             [
              1,
              "#f0f921"
             ]
            ],
            "type": "histogram2d"
           }
          ],
          "histogram2dcontour": [
           {
            "colorbar": {
             "outlinewidth": 0,
             "ticks": ""
            },
            "colorscale": [
             [
              0,
              "#0d0887"
             ],
             [
              0.1111111111111111,
              "#46039f"
             ],
             [
              0.2222222222222222,
              "#7201a8"
             ],
             [
              0.3333333333333333,
              "#9c179e"
             ],
             [
              0.4444444444444444,
              "#bd3786"
             ],
             [
              0.5555555555555556,
              "#d8576b"
             ],
             [
              0.6666666666666666,
              "#ed7953"
             ],
             [
              0.7777777777777778,
              "#fb9f3a"
             ],
             [
              0.8888888888888888,
              "#fdca26"
             ],
             [
              1,
              "#f0f921"
             ]
            ],
            "type": "histogram2dcontour"
           }
          ],
          "mesh3d": [
           {
            "colorbar": {
             "outlinewidth": 0,
             "ticks": ""
            },
            "type": "mesh3d"
           }
          ],
          "parcoords": [
           {
            "line": {
             "colorbar": {
              "outlinewidth": 0,
              "ticks": ""
             }
            },
            "type": "parcoords"
           }
          ],
          "pie": [
           {
            "automargin": true,
            "type": "pie"
           }
          ],
          "scatter": [
           {
            "fillpattern": {
             "fillmode": "overlay",
             "size": 10,
             "solidity": 0.2
            },
            "type": "scatter"
           }
          ],
          "scatter3d": [
           {
            "line": {
             "colorbar": {
              "outlinewidth": 0,
              "ticks": ""
             }
            },
            "marker": {
             "colorbar": {
              "outlinewidth": 0,
              "ticks": ""
             }
            },
            "type": "scatter3d"
           }
          ],
          "scattercarpet": [
           {
            "marker": {
             "colorbar": {
              "outlinewidth": 0,
              "ticks": ""
             }
            },
            "type": "scattercarpet"
           }
          ],
          "scattergeo": [
           {
            "marker": {
             "colorbar": {
              "outlinewidth": 0,
              "ticks": ""
             }
            },
            "type": "scattergeo"
           }
          ],
          "scattergl": [
           {
            "marker": {
             "colorbar": {
              "outlinewidth": 0,
              "ticks": ""
             }
            },
            "type": "scattergl"
           }
          ],
          "scattermap": [
           {
            "marker": {
             "colorbar": {
              "outlinewidth": 0,
              "ticks": ""
             }
            },
            "type": "scattermap"
           }
          ],
          "scattermapbox": [
           {
            "marker": {
             "colorbar": {
              "outlinewidth": 0,
              "ticks": ""
             }
            },
            "type": "scattermapbox"
           }
          ],
          "scatterpolar": [
           {
            "marker": {
             "colorbar": {
              "outlinewidth": 0,
              "ticks": ""
             }
            },
            "type": "scatterpolar"
           }
          ],
          "scatterpolargl": [
           {
            "marker": {
             "colorbar": {
              "outlinewidth": 0,
              "ticks": ""
             }
            },
            "type": "scatterpolargl"
           }
          ],
          "scatterternary": [
           {
            "marker": {
             "colorbar": {
              "outlinewidth": 0,
              "ticks": ""
             }
            },
            "type": "scatterternary"
           }
          ],
          "surface": [
           {
            "colorbar": {
             "outlinewidth": 0,
             "ticks": ""
            },
            "colorscale": [
             [
              0,
              "#0d0887"
             ],
             [
              0.1111111111111111,
              "#46039f"
             ],
             [
              0.2222222222222222,
              "#7201a8"
             ],
             [
              0.3333333333333333,
              "#9c179e"
             ],
             [
              0.4444444444444444,
              "#bd3786"
             ],
             [
              0.5555555555555556,
              "#d8576b"
             ],
             [
              0.6666666666666666,
              "#ed7953"
             ],
             [
              0.7777777777777778,
              "#fb9f3a"
             ],
             [
              0.8888888888888888,
              "#fdca26"
             ],
             [
              1,
              "#f0f921"
             ]
            ],
            "type": "surface"
           }
          ],
          "table": [
           {
            "cells": {
             "fill": {
              "color": "#EBF0F8"
             },
             "line": {
              "color": "white"
             }
            },
            "header": {
             "fill": {
              "color": "#C8D4E3"
             },
             "line": {
              "color": "white"
             }
            },
            "type": "table"
           }
          ]
         },
         "layout": {
          "annotationdefaults": {
           "arrowcolor": "#2a3f5f",
           "arrowhead": 0,
           "arrowwidth": 1
          },
          "autotypenumbers": "strict",
          "coloraxis": {
           "colorbar": {
            "outlinewidth": 0,
            "ticks": ""
           }
          },
          "colorscale": {
           "diverging": [
            [
             0,
             "#8e0152"
            ],
            [
             0.1,
             "#c51b7d"
            ],
            [
             0.2,
             "#de77ae"
            ],
            [
             0.3,
             "#f1b6da"
            ],
            [
             0.4,
             "#fde0ef"
            ],
            [
             0.5,
             "#f7f7f7"
            ],
            [
             0.6,
             "#e6f5d0"
            ],
            [
             0.7,
             "#b8e186"
            ],
            [
             0.8,
             "#7fbc41"
            ],
            [
             0.9,
             "#4d9221"
            ],
            [
             1,
             "#276419"
            ]
           ],
           "sequential": [
            [
             0,
             "#0d0887"
            ],
            [
             0.1111111111111111,
             "#46039f"
            ],
            [
             0.2222222222222222,
             "#7201a8"
            ],
            [
             0.3333333333333333,
             "#9c179e"
            ],
            [
             0.4444444444444444,
             "#bd3786"
            ],
            [
             0.5555555555555556,
             "#d8576b"
            ],
            [
             0.6666666666666666,
             "#ed7953"
            ],
            [
             0.7777777777777778,
             "#fb9f3a"
            ],
            [
             0.8888888888888888,
             "#fdca26"
            ],
            [
             1,
             "#f0f921"
            ]
           ],
           "sequentialminus": [
            [
             0,
             "#0d0887"
            ],
            [
             0.1111111111111111,
             "#46039f"
            ],
            [
             0.2222222222222222,
             "#7201a8"
            ],
            [
             0.3333333333333333,
             "#9c179e"
            ],
            [
             0.4444444444444444,
             "#bd3786"
            ],
            [
             0.5555555555555556,
             "#d8576b"
            ],
            [
             0.6666666666666666,
             "#ed7953"
            ],
            [
             0.7777777777777778,
             "#fb9f3a"
            ],
            [
             0.8888888888888888,
             "#fdca26"
            ],
            [
             1,
             "#f0f921"
            ]
           ]
          },
          "colorway": [
           "#636efa",
           "#EF553B",
           "#00cc96",
           "#ab63fa",
           "#FFA15A",
           "#19d3f3",
           "#FF6692",
           "#B6E880",
           "#FF97FF",
           "#FECB52"
          ],
          "font": {
           "color": "#2a3f5f"
          },
          "geo": {
           "bgcolor": "white",
           "lakecolor": "white",
           "landcolor": "#E5ECF6",
           "showlakes": true,
           "showland": true,
           "subunitcolor": "white"
          },
          "hoverlabel": {
           "align": "left"
          },
          "hovermode": "closest",
          "mapbox": {
           "style": "light"
          },
          "paper_bgcolor": "white",
          "plot_bgcolor": "#E5ECF6",
          "polar": {
           "angularaxis": {
            "gridcolor": "white",
            "linecolor": "white",
            "ticks": ""
           },
           "bgcolor": "#E5ECF6",
           "radialaxis": {
            "gridcolor": "white",
            "linecolor": "white",
            "ticks": ""
           }
          },
          "scene": {
           "xaxis": {
            "backgroundcolor": "#E5ECF6",
            "gridcolor": "white",
            "gridwidth": 2,
            "linecolor": "white",
            "showbackground": true,
            "ticks": "",
            "zerolinecolor": "white"
           },
           "yaxis": {
            "backgroundcolor": "#E5ECF6",
            "gridcolor": "white",
            "gridwidth": 2,
            "linecolor": "white",
            "showbackground": true,
            "ticks": "",
            "zerolinecolor": "white"
           },
           "zaxis": {
            "backgroundcolor": "#E5ECF6",
            "gridcolor": "white",
            "gridwidth": 2,
            "linecolor": "white",
            "showbackground": true,
            "ticks": "",
            "zerolinecolor": "white"
           }
          },
          "shapedefaults": {
           "line": {
            "color": "#2a3f5f"
           }
          },
          "ternary": {
           "aaxis": {
            "gridcolor": "white",
            "linecolor": "white",
            "ticks": ""
           },
           "baxis": {
            "gridcolor": "white",
            "linecolor": "white",
            "ticks": ""
           },
           "bgcolor": "#E5ECF6",
           "caxis": {
            "gridcolor": "white",
            "linecolor": "white",
            "ticks": ""
           }
          },
          "title": {
           "x": 0.05
          },
          "xaxis": {
           "automargin": true,
           "gridcolor": "white",
           "linecolor": "white",
           "ticks": "",
           "title": {
            "standoff": 15
           },
           "zerolinecolor": "white",
           "zerolinewidth": 2
          },
          "yaxis": {
           "automargin": true,
           "gridcolor": "white",
           "linecolor": "white",
           "ticks": "",
           "title": {
            "standoff": 15
           },
           "zerolinecolor": "white",
           "zerolinewidth": 2
          }
         }
        },
        "title": {
         "text": "Lagos por provincia"
        }
       }
      },
      "image/png": "[encoded data removed]"
     },
     "metadata": {},
     "output_type": "display_data"
    }
   ],
   "source": [
    "fig=pl.pie(data_frame = cantidad, names = cantidad.index, values= cantidad, title=\"Lagos por provincia\")\n",
    "fig.show()"
   ]
  },
  {
   "cell_type": "markdown",
   "id": "07a14e63-0f98-4ae2-9a81-a93dc22cb899",
   "metadata": {},
   "source": [
    "## Gráfico de barra sobre la cantidad de lagos provincia"
   ]
  },
  {
   "cell_type": "code",
   "execution_count": 11,
   "id": "44768d67-7553-4001-a158-b829fb2ac231",
   "metadata": {},
   "outputs": [
    {
     "data": {
      "application/vnd.plotly.v1+json": {
       "config": {
        "plotlyServerURL": "https://plot.ly"
       },
       "data": [
        {
         "hovertemplate": "Ubicación=%{x}<br>count=%{y}<extra></extra>",
         "legendgroup": "",
         "marker": {
          "color": "#636efa",
          "pattern": {
           "shape": ""
          }
         },
         "name": "",
         "orientation": "v",
         "showlegend": false,
         "textposition": "auto",
         "type": "bar",
         "x": [
          "Santa Cruz",
          "Neuquén",
          "Chubut",
          "Río Negro",
          "Tierra del Fuego, Antártida e Islas del Atlántico Sur",
          "Río Negro / Neuquén",
          "Buenos Aires"
         ],
         "xaxis": "x",
         "y": {
          "bdata": "EA4NBAMBAQ==",
          "dtype": "i1"
         },
         "yaxis": "y"
        }
       ],
       "layout": {
        "barmode": "relative",
        "legend": {
         "tracegroupgap": 0
        },
        "template": {
         "data": {
          "bar": [
           {
            "error_x": {
             "color": "#2a3f5f"
            },
            "error_y": {
             "color": "#2a3f5f"
            },
            "marker": {
             "line": {
              "color": "#E5ECF6",
              "width": 0.5
             },
             "pattern": {
              "fillmode": "overlay",
              "size": 10,
              "solidity": 0.2
             }
            },
            "type": "bar"
           }
          ],
          "barpolar": [
           {
            "marker": {
             "line": {
              "color": "#E5ECF6",
              "width": 0.5
             },
             "pattern": {
              "fillmode": "overlay",
              "size": 10,
              "solidity": 0.2
             }
            },
            "type": "barpolar"
           }
          ],
          "carpet": [
           {
            "aaxis": {
             "endlinecolor": "#2a3f5f",
             "gridcolor": "white",
             "linecolor": "white",
             "minorgridcolor": "white",
             "startlinecolor": "#2a3f5f"
            },
            "baxis": {
             "endlinecolor": "#2a3f5f",
             "gridcolor": "white",
             "linecolor": "white",
             "minorgridcolor": "white",
             "startlinecolor": "#2a3f5f"
            },
            "type": "carpet"
           }
          ],
          "choropleth": [
           {
            "colorbar": {
             "outlinewidth": 0,
             "ticks": ""
            },
            "type": "choropleth"
           }
          ],
          "contour": [
           {
            "colorbar": {
             "outlinewidth": 0,
             "ticks": ""
            },
            "colorscale": [
             [
              0,
              "#0d0887"
             ],
             [
              0.1111111111111111,
              "#46039f"
             ],
             [
              0.2222222222222222,
              "#7201a8"
             ],
             [
              0.3333333333333333,
              "#9c179e"
             ],
             [
              0.4444444444444444,
              "#bd3786"
             ],
             [
              0.5555555555555556,
              "#d8576b"
             ],
             [
              0.6666666666666666,
              "#ed7953"
             ],
             [
              0.7777777777777778,
              "#fb9f3a"
             ],
             [
              0.8888888888888888,
              "#fdca26"
             ],
             [
              1,
              "#f0f921"
             ]
            ],
            "type": "contour"
           }
          ],
          "contourcarpet": [
           {
            "colorbar": {
             "outlinewidth": 0,
             "ticks": ""
            },
            "type": "contourcarpet"
           }
          ],
          "heatmap": [
           {
            "colorbar": {
             "outlinewidth": 0,
             "ticks": ""
            },
            "colorscale": [
             [
              0,
              "#0d0887"
             ],
             [
              0.1111111111111111,
              "#46039f"
             ],
             [
              0.2222222222222222,
              "#7201a8"
             ],
             [
              0.3333333333333333,
              "#9c179e"
             ],
             [
              0.4444444444444444,
              "#bd3786"
             ],
             [
              0.5555555555555556,
              "#d8576b"
             ],
             [
              0.6666666666666666,
              "#ed7953"
             ],
             [
              0.7777777777777778,
              "#fb9f3a"
             ],
             [
              0.8888888888888888,
              "#fdca26"
             ],
             [
              1,
              "#f0f921"
             ]
            ],
            "type": "heatmap"
           }
          ],
          "histogram": [
           {
            "marker": {
             "pattern": {
              "fillmode": "overlay",
              "size": 10,
              "solidity": 0.2
             }
            },
            "type": "histogram"
           }
          ],
          "histogram2d": [
           {
            "colorbar": {
             "outlinewidth": 0,
             "ticks": ""
            },
            "colorscale": [
             [
              0,
              "#0d0887"
             ],
             [
              0.1111111111111111,
              "#46039f"
             ],
             [
              0.2222222222222222,
              "#7201a8"
             ],
             [
              0.3333333333333333,
              "#9c179e"
             ],
             [
              0.4444444444444444,
              "#bd3786"
             ],
             [
              0.5555555555555556,
              "#d8576b"
             ],
             [
              0.6666666666666666,
              "#ed7953"
             ],
             [
              0.7777777777777778,
              "#fb9f3a"
             ],
             [
              0.8888888888888888,
              "#fdca26"
             ],
             [
              1,
              "#f0f921"
             ]
            ],
            "type": "histogram2d"
           }
          ],
          "histogram2dcontour": [
           {
            "colorbar": {
             "outlinewidth": 0,
             "ticks": ""
            },
            "colorscale": [
             [
              0,
              "#0d0887"
             ],
             [
              0.1111111111111111,
              "#46039f"
             ],
             [
              0.2222222222222222,
              "#7201a8"
             ],
             [
              0.3333333333333333,
              "#9c179e"
             ],
             [
              0.4444444444444444,
              "#bd3786"
             ],
             [
              0.5555555555555556,
              "#d8576b"
             ],
             [
              0.6666666666666666,
              "#ed7953"
             ],
             [
              0.7777777777777778,
              "#fb9f3a"
             ],
             [
              0.8888888888888888,
              "#fdca26"
             ],
             [
              1,
              "#f0f921"
             ]
            ],
            "type": "histogram2dcontour"
           }
          ],
          "mesh3d": [
           {
            "colorbar": {
             "outlinewidth": 0,
             "ticks": ""
            },
            "type": "mesh3d"
           }
          ],
          "parcoords": [
           {
            "line": {
             "colorbar": {
              "outlinewidth": 0,
              "ticks": ""
             }
            },
            "type": "parcoords"
           }
          ],
          "pie": [
           {
            "automargin": true,
            "type": "pie"
           }
          ],
          "scatter": [
           {
            "fillpattern": {
             "fillmode": "overlay",
             "size": 10,
             "solidity": 0.2
            },
            "type": "scatter"
           }
          ],
          "scatter3d": [
           {
            "line": {
             "colorbar": {
              "outlinewidth": 0,
              "ticks": ""
             }
            },
            "marker": {
             "colorbar": {
              "outlinewidth": 0,
              "ticks": ""
             }
            },
            "type": "scatter3d"
           }
          ],
          "scattercarpet": [
           {
            "marker": {
             "colorbar": {
              "outlinewidth": 0,
              "ticks": ""
             }
            },
            "type": "scattercarpet"
           }
          ],
          "scattergeo": [
           {
            "marker": {
             "colorbar": {
              "outlinewidth": 0,
              "ticks": ""
             }
            },
            "type": "scattergeo"
           }
          ],
          "scattergl": [
           {
            "marker": {
             "colorbar": {
              "outlinewidth": 0,
              "ticks": ""
             }
            },
            "type": "scattergl"
           }
          ],
          "scattermap": [
           {
            "marker": {
             "colorbar": {
              "outlinewidth": 0,
              "ticks": ""
             }
            },
            "type": "scattermap"
           }
          ],
          "scattermapbox": [
           {
            "marker": {
             "colorbar": {
              "outlinewidth": 0,
              "ticks": ""
             }
            },
            "type": "scattermapbox"
           }
          ],
          "scatterpolar": [
           {
            "marker": {
             "colorbar": {
              "outlinewidth": 0,
              "ticks": ""
             }
            },
            "type": "scatterpolar"
           }
          ],
          "scatterpolargl": [
           {
            "marker": {
             "colorbar": {
              "outlinewidth": 0,
              "ticks": ""
             }
            },
            "type": "scatterpolargl"
           }
          ],
          "scatterternary": [
           {
            "marker": {
             "colorbar": {
              "outlinewidth": 0,
              "ticks": ""
             }
            },
            "type": "scatterternary"
           }
          ],
          "surface": [
           {
            "colorbar": {
             "outlinewidth": 0,
             "ticks": ""
            },
            "colorscale": [
             [
              0,
              "#0d0887"
             ],
             [
              0.1111111111111111,
              "#46039f"
             ],
             [
              0.2222222222222222,
              "#7201a8"
             ],
             [
              0.3333333333333333,
              "#9c179e"
             ],
             [
              0.4444444444444444,
              "#bd3786"
             ],
             [
              0.5555555555555556,
              "#d8576b"
             ],
             [
              0.6666666666666666,
              "#ed7953"
             ],
             [
              0.7777777777777778,
              "#fb9f3a"
             ],
             [
              0.8888888888888888,
              "#fdca26"
             ],
             [
              1,
              "#f0f921"
             ]
            ],
            "type": "surface"
           }
          ],
          "table": [
           {
            "cells": {
             "fill": {
              "color": "#EBF0F8"
             },
             "line": {
              "color": "white"
             }
            },
            "header": {
             "fill": {
              "color": "#C8D4E3"
             },
             "line": {
              "color": "white"
             }
            },
            "type": "table"
           }
          ]
         },
         "layout": {
          "annotationdefaults": {
           "arrowcolor": "#2a3f5f",
           "arrowhead": 0,
           "arrowwidth": 1
          },
          "autotypenumbers": "strict",
          "coloraxis": {
           "colorbar": {
            "outlinewidth": 0,
            "ticks": ""
           }
          },
          "colorscale": {
           "diverging": [
            [
             0,
             "#8e0152"
            ],
            [
             0.1,
             "#c51b7d"
            ],
            [
             0.2,
             "#de77ae"
            ],
            [
             0.3,
             "#f1b6da"
            ],
            [
             0.4,
             "#fde0ef"
            ],
            [
             0.5,
             "#f7f7f7"
            ],
            [
             0.6,
             "#e6f5d0"
            ],
            [
             0.7,
             "#b8e186"
            ],
            [
             0.8,
             "#7fbc41"
            ],
            [
             0.9,
             "#4d9221"
            ],
            [
             1,
             "#276419"
            ]
           ],
           "sequential": [
            [
             0,
             "#0d0887"
            ],
            [
             0.1111111111111111,
             "#46039f"
            ],
            [
             0.2222222222222222,
             "#7201a8"
            ],
            [
             0.3333333333333333,
             "#9c179e"
            ],
            [
             0.4444444444444444,
             "#bd3786"
            ],
            [
             0.5555555555555556,
             "#d8576b"
            ],
            [
             0.6666666666666666,
             "#ed7953"
            ],
            [
             0.7777777777777778,
             "#fb9f3a"
            ],
            [
             0.8888888888888888,
             "#fdca26"
            ],
            [
             1,
             "#f0f921"
            ]
           ],
           "sequentialminus": [
            [
             0,
             "#0d0887"
            ],
            [
             0.1111111111111111,
             "#46039f"
            ],
            [
             0.2222222222222222,
             "#7201a8"
            ],
            [
             0.3333333333333333,
             "#9c179e"
            ],
            [
             0.4444444444444444,
             "#bd3786"
            ],
            [
             0.5555555555555556,
             "#d8576b"
            ],
            [
             0.6666666666666666,
             "#ed7953"
            ],
            [
             0.7777777777777778,
             "#fb9f3a"
            ],
            [
             0.8888888888888888,
             "#fdca26"
            ],
            [
             1,
             "#f0f921"
            ]
           ]
          },
          "colorway": [
           "#636efa",
           "#EF553B",
           "#00cc96",
           "#ab63fa",
           "#FFA15A",
           "#19d3f3",
           "#FF6692",
           "#B6E880",
           "#FF97FF",
           "#FECB52"
          ],
          "font": {
           "color": "#2a3f5f"
          },
          "geo": {
           "bgcolor": "white",
           "lakecolor": "white",
           "landcolor": "#E5ECF6",
           "showlakes": true,
           "showland": true,
           "subunitcolor": "white"
          },
          "hoverlabel": {
           "align": "left"
          },
          "hovermode": "closest",
          "mapbox": {
           "style": "light"
          },
          "paper_bgcolor": "white",
          "plot_bgcolor": "#E5ECF6",
          "polar": {
           "angularaxis": {
            "gridcolor": "white",
            "linecolor": "white",
            "ticks": ""
           },
           "bgcolor": "#E5ECF6",
           "radialaxis": {
            "gridcolor": "white",
            "linecolor": "white",
            "ticks": ""
           }
          },
          "scene": {
           "xaxis": {
            "backgroundcolor": "#E5ECF6",
            "gridcolor": "white",
            "gridwidth": 2,
            "linecolor": "white",
            "showbackground": true,
            "ticks": "",
            "zerolinecolor": "white"
           },
           "yaxis": {
            "backgroundcolor": "#E5ECF6",
            "gridcolor": "white",
            "gridwidth": 2,
            "linecolor": "white",
            "showbackground": true,
            "ticks": "",
            "zerolinecolor": "white"
           },
           "zaxis": {
            "backgroundcolor": "#E5ECF6",
            "gridcolor": "white",
            "gridwidth": 2,
            "linecolor": "white",
            "showbackground": true,
            "ticks": "",
            "zerolinecolor": "white"
           }
          },
          "shapedefaults": {
           "line": {
            "color": "#2a3f5f"
           }
          },
          "ternary": {
           "aaxis": {
            "gridcolor": "white",
            "linecolor": "white",
            "ticks": ""
           },
           "baxis": {
            "gridcolor": "white",
            "linecolor": "white",
            "ticks": ""
           },
           "bgcolor": "#E5ECF6",
           "caxis": {
            "gridcolor": "white",
            "linecolor": "white",
            "ticks": ""
           }
          },
          "title": {
           "x": 0.05
          },
          "xaxis": {
           "automargin": true,
           "gridcolor": "white",
           "linecolor": "white",
           "ticks": "",
           "title": {
            "standoff": 15
           },
           "zerolinecolor": "white",
           "zerolinewidth": 2
          },
          "yaxis": {
           "automargin": true,
           "gridcolor": "white",
           "linecolor": "white",
           "ticks": "",
           "title": {
            "standoff": 15
           },
           "zerolinecolor": "white",
           "zerolinewidth": 2
          }
         }
        },
        "title": {
         "text": "cantidad de lagos provincia"
        },
        "xaxis": {
         "anchor": "y",
         "domain": [
          0,
          1
         ],
         "title": {
          "text": "Ubicación"
         }
        },
        "yaxis": {
         "anchor": "x",
         "domain": [
          0,
          1
         ],
         "title": {
          "text": "count"
         }
        }
       }
      },
      "image/png": "[encoded data removed]"
     },
     "metadata": {},
     "output_type": "display_data"
    }
   ],
   "source": [
    "fig=pl.bar(data_frame= cantidad, x= cantidad.index, y= cantidad, title=\"cantidad de lagos provincia\")\n",
    "fig.show()"
   ]
  },
  {
   "cell_type": "markdown",
   "id": "a1c6b989-d175-429e-8cd1-b22b03dbb5ea",
   "metadata": {},
   "source": [
    "## ¿En qué provincias hay lagos?"
   ]
  },
  {
   "cell_type": "code",
   "execution_count": 16,
   "id": "b004f829-6032-4235-93ec-8ece18fe66e4",
   "metadata": {
    "scrolled": true
   },
   "outputs": [
    {
     "data": {
      "text/plain": [
       "Ubicación\n",
       "Santa Cruz                                               16\n",
       "Neuquén                                                  14\n",
       "Chubut                                                   13\n",
       "Río Negro                                                 4\n",
       "Tierra del Fuego, Antártida e Islas del Atlántico Sur     3\n",
       "Río Negro / Neuquén                                       1\n",
       "Buenos Aires                                              1\n",
       "Name: count, dtype: int64"
      ]
     },
     "execution_count": 16,
     "metadata": {},
     "output_type": "execute_result"
    }
   ],
   "source": [
    "lagos[\"Ubicación\"].unique()"
   ]
  },
  {
   "cell_type": "markdown",
   "id": "2a30678d-10d9-4404-8403-a1ca046ef279",
   "metadata": {},
   "source": [
    "# ✅ Etapa 3: Filtrar y Limpiar Datos (15 min)\n",
    "* Mostrar los lagos que son de la provincia de Neuquén. **Nota**: no te olvides de incluir el lago que está compartido con otra provincia, (isin([\"Neuquén\", \"Río Negro / Neuquén\"])]\n",
    "* Mostrar cómo modificaríamos si nos piden  reemplazar el valor de 'Río Negro / Neuquén' **por** 'Neuquén'?\n",
    "* Filtrá los lagos de Chubut con superficie menor a 10 km². **Nota**: dataframe[(condición1) & (condición2)]"
   ]
  },
  {
   "cell_type": "markdown",
   "id": "0678b9c1-f26f-4e75-9c9c-e9e15c7a624b",
   "metadata": {},
   "source": [
    "### Mostrar los lagos que son de la provincia de Neuquén"
   ]
  },
  {
   "cell_type": "code",
   "execution_count": 67,
   "id": "6ffed67f-9591-4caa-b089-31a5ed36e2e4",
   "metadata": {},
   "outputs": [],
   "source": [
    "def lp (provincia):\n",
    "    lp2=lagos[lagos[\"Ubicación\"]==provincia]\n",
    "    return lp2"
   ]
  },
  {
   "cell_type": "code",
   "execution_count": 68,
   "id": "9fd4a8b8-b816-4b34-b56b-d60f42ef88b1",
   "metadata": {
    "scrolled": true
   },
   "outputs": [
    {
     "data": {
      "text/html": [
       "<div>\n",
       "<style scoped>\n",
       "    .dataframe tbody tr th:only-of-type {\n",
       "        vertical-align: middle;\n",
       "    }\n",
       "\n",
       "    .dataframe tbody tr th {\n",
       "        vertical-align: top;\n",
       "    }\n",
       "\n",
       "    .dataframe thead th {\n",
       "        text-align: right;\n",
       "    }\n",
       "</style>\n",
       "<table border=\"1\" class=\"dataframe\">\n",
       "  <thead>\n",
       "    <tr style=\"text-align: right;\">\n",
       "      <th></th>\n",
       "      <th>Nombre</th>\n",
       "      <th>Ubicación</th>\n",
       "      <th>Superficie (km²)</th>\n",
       "      <th>Profundidad máxima (m)</th>\n",
       "      <th>Profundidad media (m)</th>\n",
       "      <th>Coordenadas</th>\n",
       "      <th>Sup Tamaño</th>\n",
       "      <th>Latitud en GMS</th>\n",
       "      <th>Longitud en GMS</th>\n",
       "      <th>lat</th>\n",
       "      <th>lng</th>\n",
       "    </tr>\n",
       "  </thead>\n",
       "  <tbody>\n",
       "    <tr>\n",
       "      <th>9</th>\n",
       "      <td>Lago Huechulafquen</td>\n",
       "      <td>Neuquén</td>\n",
       "      <td>84</td>\n",
       "      <td>NaN</td>\n",
       "      <td>142.0</td>\n",
       "      <td>39°46'28\"S 71°30'32\"O</td>\n",
       "      <td>grande</td>\n",
       "      <td>39°46'28\"S</td>\n",
       "      <td>71°30'32\"O</td>\n",
       "      <td>-39.774444</td>\n",
       "      <td>-71.508889</td>\n",
       "    </tr>\n",
       "    <tr>\n",
       "      <th>10</th>\n",
       "      <td>Lago Traful</td>\n",
       "      <td>Neuquén</td>\n",
       "      <td>78</td>\n",
       "      <td>NaN</td>\n",
       "      <td>NaN</td>\n",
       "      <td>40°37'50\"S 71°24'55\"O</td>\n",
       "      <td>grande</td>\n",
       "      <td>40°37'50\"S</td>\n",
       "      <td>71°24'55\"O</td>\n",
       "      <td>-40.630556</td>\n",
       "      <td>-71.415278</td>\n",
       "    </tr>\n",
       "    <tr>\n",
       "      <th>14</th>\n",
       "      <td>Lago Aluminé</td>\n",
       "      <td>Neuquén</td>\n",
       "      <td>58</td>\n",
       "      <td>165.0</td>\n",
       "      <td>64.0</td>\n",
       "      <td>38°55'18\"S 71°7'35\"O</td>\n",
       "      <td>medio</td>\n",
       "      <td>38°55'18\"S</td>\n",
       "      <td>71°7'35\"O</td>\n",
       "      <td>-38.921667</td>\n",
       "      <td>-71.126389</td>\n",
       "    </tr>\n",
       "    <tr>\n",
       "      <th>15</th>\n",
       "      <td>Lago Lácar</td>\n",
       "      <td>Neuquén</td>\n",
       "      <td>53</td>\n",
       "      <td>277.0</td>\n",
       "      <td>166.0</td>\n",
       "      <td>40°9'45\"S 71°26'11\"O</td>\n",
       "      <td>medio</td>\n",
       "      <td>40°9'45\"S</td>\n",
       "      <td>71°26'11\"O</td>\n",
       "      <td>-40.162500</td>\n",
       "      <td>-71.436389</td>\n",
       "    </tr>\n",
       "    <tr>\n",
       "      <th>23</th>\n",
       "      <td>Lago Espejo</td>\n",
       "      <td>Neuquén</td>\n",
       "      <td>40</td>\n",
       "      <td>NaN</td>\n",
       "      <td>NaN</td>\n",
       "      <td>40°40'33\"S 71°42'40\"O</td>\n",
       "      <td>medio</td>\n",
       "      <td>40°40'33\"S</td>\n",
       "      <td>71°42'40\"O</td>\n",
       "      <td>-40.675833</td>\n",
       "      <td>-71.711111</td>\n",
       "    </tr>\n",
       "    <tr>\n",
       "      <th>27</th>\n",
       "      <td>Lago Lolog</td>\n",
       "      <td>Neuquén</td>\n",
       "      <td>37</td>\n",
       "      <td>NaN</td>\n",
       "      <td>NaN</td>\n",
       "      <td>40°2'10\"S 71°32'11\"O</td>\n",
       "      <td>medio</td>\n",
       "      <td>40°2'10\"S</td>\n",
       "      <td>71°32'11\"O</td>\n",
       "      <td>-40.036111</td>\n",
       "      <td>-71.536389</td>\n",
       "    </tr>\n",
       "    <tr>\n",
       "      <th>29</th>\n",
       "      <td>Lago Tromen</td>\n",
       "      <td>Neuquén</td>\n",
       "      <td>29</td>\n",
       "      <td>NaN</td>\n",
       "      <td>69.0</td>\n",
       "      <td>39°31'33\"S 71°26'52\"O</td>\n",
       "      <td>medio</td>\n",
       "      <td>39°31'33\"S</td>\n",
       "      <td>71°26'52\"O</td>\n",
       "      <td>-39.525833</td>\n",
       "      <td>-71.447778</td>\n",
       "    </tr>\n",
       "    <tr>\n",
       "      <th>31</th>\n",
       "      <td>Lago Quillén</td>\n",
       "      <td>Neuquén</td>\n",
       "      <td>26</td>\n",
       "      <td>NaN</td>\n",
       "      <td>NaN</td>\n",
       "      <td>39°24'41\"S 71°18'52\"O</td>\n",
       "      <td>medio</td>\n",
       "      <td>39°24'41\"S</td>\n",
       "      <td>71°18'52\"O</td>\n",
       "      <td>-39.411389</td>\n",
       "      <td>-71.314444</td>\n",
       "    </tr>\n",
       "    <tr>\n",
       "      <th>34</th>\n",
       "      <td>Lago Moquehue</td>\n",
       "      <td>Neuquén</td>\n",
       "      <td>21</td>\n",
       "      <td>NaN</td>\n",
       "      <td>NaN</td>\n",
       "      <td>38°54'16\"S 71°16'26\"O</td>\n",
       "      <td>medio</td>\n",
       "      <td>38°54'16\"S</td>\n",
       "      <td>71°16'26\"O</td>\n",
       "      <td>-38.904444</td>\n",
       "      <td>-71.273889</td>\n",
       "    </tr>\n",
       "    <tr>\n",
       "      <th>35</th>\n",
       "      <td>Lago Correntoso</td>\n",
       "      <td>Neuquén</td>\n",
       "      <td>20</td>\n",
       "      <td>NaN</td>\n",
       "      <td>NaN</td>\n",
       "      <td>40°42'8\"S 71°39'35\"O</td>\n",
       "      <td>medio</td>\n",
       "      <td>40°42'8\"S</td>\n",
       "      <td>71°39'35\"O</td>\n",
       "      <td>-40.702222</td>\n",
       "      <td>-71.659722</td>\n",
       "    </tr>\n",
       "    <tr>\n",
       "      <th>41</th>\n",
       "      <td>Lago Paimún</td>\n",
       "      <td>Neuquén</td>\n",
       "      <td>16</td>\n",
       "      <td>NaN</td>\n",
       "      <td>66.0</td>\n",
       "      <td>39°43'27\"S 71°35'2\"O</td>\n",
       "      <td>chico</td>\n",
       "      <td>39°43'27\"S</td>\n",
       "      <td>71°35'2\"O</td>\n",
       "      <td>-39.724167</td>\n",
       "      <td>-71.583889</td>\n",
       "    </tr>\n",
       "    <tr>\n",
       "      <th>45</th>\n",
       "      <td>Lago Meliquina</td>\n",
       "      <td>Neuquén</td>\n",
       "      <td>14</td>\n",
       "      <td>NaN</td>\n",
       "      <td>NaN</td>\n",
       "      <td>40°19'60\"S 71°19'10\"O</td>\n",
       "      <td>chico</td>\n",
       "      <td>40°19'60\"S</td>\n",
       "      <td>71°19'10\"O</td>\n",
       "      <td>-40.333333</td>\n",
       "      <td>-71.319444</td>\n",
       "    </tr>\n",
       "    <tr>\n",
       "      <th>47</th>\n",
       "      <td>Lago Currhué</td>\n",
       "      <td>Neuquén</td>\n",
       "      <td>12</td>\n",
       "      <td>NaN</td>\n",
       "      <td>NaN</td>\n",
       "      <td>39°50'24\"S 71°30'27\"O</td>\n",
       "      <td>chico</td>\n",
       "      <td>39°50'24\"S</td>\n",
       "      <td>71°30'27\"O</td>\n",
       "      <td>-39.840000</td>\n",
       "      <td>-71.507500</td>\n",
       "    </tr>\n",
       "    <tr>\n",
       "      <th>48</th>\n",
       "      <td>Lago Falkner</td>\n",
       "      <td>Neuquén</td>\n",
       "      <td>11</td>\n",
       "      <td>NaN</td>\n",
       "      <td>NaN</td>\n",
       "      <td>40°29'6\"S 71°28'33\"O</td>\n",
       "      <td>chico</td>\n",
       "      <td>40°29'6\"S</td>\n",
       "      <td>71°28'33\"O</td>\n",
       "      <td>-40.485000</td>\n",
       "      <td>-71.475833</td>\n",
       "    </tr>\n",
       "  </tbody>\n",
       "</table>\n",
       "</div>"
      ],
      "text/plain": [
       "                Nombre Ubicación  Superficie (km²)  Profundidad máxima (m)  \\\n",
       "9   Lago Huechulafquen   Neuquén                84                     NaN   \n",
       "10         Lago Traful   Neuquén                78                     NaN   \n",
       "14        Lago Aluminé   Neuquén                58                   165.0   \n",
       "15          Lago Lácar   Neuquén                53                   277.0   \n",
       "23         Lago Espejo   Neuquén                40                     NaN   \n",
       "27          Lago Lolog   Neuquén                37                     NaN   \n",
       "29         Lago Tromen   Neuquén                29                     NaN   \n",
       "31        Lago Quillén   Neuquén                26                     NaN   \n",
       "34       Lago Moquehue   Neuquén                21                     NaN   \n",
       "35     Lago Correntoso   Neuquén                20                     NaN   \n",
       "41         Lago Paimún   Neuquén                16                     NaN   \n",
       "45      Lago Meliquina   Neuquén                14                     NaN   \n",
       "47        Lago Currhué   Neuquén                12                     NaN   \n",
       "48        Lago Falkner   Neuquén                11                     NaN   \n",
       "\n",
       "    Profundidad media (m)            Coordenadas Sup Tamaño Latitud en GMS  \\\n",
       "9                   142.0  39°46'28\"S 71°30'32\"O     grande     39°46'28\"S   \n",
       "10                    NaN  40°37'50\"S 71°24'55\"O     grande     40°37'50\"S   \n",
       "14                   64.0   38°55'18\"S 71°7'35\"O      medio     38°55'18\"S   \n",
       "15                  166.0   40°9'45\"S 71°26'11\"O      medio      40°9'45\"S   \n",
       "23                    NaN  40°40'33\"S 71°42'40\"O      medio     40°40'33\"S   \n",
       "27                    NaN   40°2'10\"S 71°32'11\"O      medio      40°2'10\"S   \n",
       "29                   69.0  39°31'33\"S 71°26'52\"O      medio     39°31'33\"S   \n",
       "31                    NaN  39°24'41\"S 71°18'52\"O      medio     39°24'41\"S   \n",
       "34                    NaN  38°54'16\"S 71°16'26\"O      medio     38°54'16\"S   \n",
       "35                    NaN   40°42'8\"S 71°39'35\"O      medio      40°42'8\"S   \n",
       "41                   66.0   39°43'27\"S 71°35'2\"O      chico     39°43'27\"S   \n",
       "45                    NaN  40°19'60\"S 71°19'10\"O      chico     40°19'60\"S   \n",
       "47                    NaN  39°50'24\"S 71°30'27\"O      chico     39°50'24\"S   \n",
       "48                    NaN   40°29'6\"S 71°28'33\"O      chico      40°29'6\"S   \n",
       "\n",
       "   Longitud en GMS        lat        lng  \n",
       "9       71°30'32\"O -39.774444 -71.508889  \n",
       "10      71°24'55\"O -40.630556 -71.415278  \n",
       "14       71°7'35\"O -38.921667 -71.126389  \n",
       "15      71°26'11\"O -40.162500 -71.436389  \n",
       "23      71°42'40\"O -40.675833 -71.711111  \n",
       "27      71°32'11\"O -40.036111 -71.536389  \n",
       "29      71°26'52\"O -39.525833 -71.447778  \n",
       "31      71°18'52\"O -39.411389 -71.314444  \n",
       "34      71°16'26\"O -38.904444 -71.273889  \n",
       "35      71°39'35\"O -40.702222 -71.659722  \n",
       "41       71°35'2\"O -39.724167 -71.583889  \n",
       "45      71°19'10\"O -40.333333 -71.319444  \n",
       "47      71°30'27\"O -39.840000 -71.507500  \n",
       "48      71°28'33\"O -40.485000 -71.475833  "
      ]
     },
     "execution_count": 68,
     "metadata": {},
     "output_type": "execute_result"
    }
   ],
   "source": [
    "lp(\"Neuquén\")"
   ]
  },
  {
   "cell_type": "markdown",
   "id": "9da4cafe-0eaf-43e4-be94-f8ec1e2d332c",
   "metadata": {},
   "source": [
    "## Mostrar cómo modificaríamos si nos piden  reemplazar el valor de 'Río Negro / Neuquén' **por** 'Neuquén'?"
   ]
  },
  {
   "cell_type": "code",
   "execution_count": 53,
   "id": "12642ec7-deab-4154-8264-c4c2a83665bc",
   "metadata": {},
   "outputs": [
    {
     "name": "stdout",
     "output_type": "stream",
     "text": [
      "Ubicación\n",
      "Santa Cruz                                               16\n",
      "Neuquén                                                  15\n",
      "Chubut                                                   13\n",
      "Río Negro                                                 4\n",
      "Tierra del Fuego, Antártida e Islas del Atlántico Sur     3\n",
      "Buenos Aires                                              1\n",
      "Name: count, dtype: int64\n"
     ]
    }
   ],
   "source": [
    "col_replace = {'Río Negro / Neuquén': 'Neuquén'}\n",
    "lag_m = lagos.copy()\n",
    "lag_m[\"Ubicación\"] = lag_m[\"Ubicación\"].replace(col_replace)\n",
    "lagos_ar = lag_m[\"Ubicación\"].value_counts()\n",
    "print(lagos_ar)"
   ]
  },
  {
   "cell_type": "markdown",
   "id": "47079f37-82d5-4a36-be20-3ae71844e05d",
   "metadata": {},
   "source": [
    "## Filtrá los lagos de Chubut con superficie menor a 10 km²"
   ]
  },
  {
   "cell_type": "code",
   "execution_count": 72,
   "id": "81cac15c-51e4-48f7-9dc0-3dafb33e9e36",
   "metadata": {},
   "outputs": [
    {
     "data": {
      "text/html": [
       "<div>\n",
       "<style scoped>\n",
       "    .dataframe tbody tr th:only-of-type {\n",
       "        vertical-align: middle;\n",
       "    }\n",
       "\n",
       "    .dataframe tbody tr th {\n",
       "        vertical-align: top;\n",
       "    }\n",
       "\n",
       "    .dataframe thead th {\n",
       "        text-align: right;\n",
       "    }\n",
       "</style>\n",
       "<table border=\"1\" class=\"dataframe\">\n",
       "  <thead>\n",
       "    <tr style=\"text-align: right;\">\n",
       "      <th></th>\n",
       "      <th>Nombre</th>\n",
       "      <th>Ubicación</th>\n",
       "      <th>Superficie (km²)</th>\n",
       "      <th>Profundidad máxima (m)</th>\n",
       "      <th>Profundidad media (m)</th>\n",
       "      <th>Coordenadas</th>\n",
       "      <th>Sup Tamaño</th>\n",
       "      <th>Latitud en GMS</th>\n",
       "      <th>Longitud en GMS</th>\n",
       "      <th>lat</th>\n",
       "      <th>lng</th>\n",
       "    </tr>\n",
       "  </thead>\n",
       "  <tbody>\n",
       "    <tr>\n",
       "      <th>49</th>\n",
       "      <td>Lago Pico Nº 1</td>\n",
       "      <td>Chubut</td>\n",
       "      <td>10</td>\n",
       "      <td>NaN</td>\n",
       "      <td>NaN</td>\n",
       "      <td>44°14'31\"S 71°30'8\"O</td>\n",
       "      <td>chico</td>\n",
       "      <td>44°14'31\"S</td>\n",
       "      <td>71°30'8\"O</td>\n",
       "      <td>-44.241944</td>\n",
       "      <td>-71.502222</td>\n",
       "    </tr>\n",
       "    <tr>\n",
       "      <th>51</th>\n",
       "      <td>Lago Rosario</td>\n",
       "      <td>Chubut</td>\n",
       "      <td>10</td>\n",
       "      <td>57.0</td>\n",
       "      <td>25.0</td>\n",
       "      <td>43°15'36\"S 71°20'48\"O</td>\n",
       "      <td>chico</td>\n",
       "      <td>43°15'36\"S</td>\n",
       "      <td>71°20'48\"O</td>\n",
       "      <td>-43.260000</td>\n",
       "      <td>-71.346667</td>\n",
       "    </tr>\n",
       "  </tbody>\n",
       "</table>\n",
       "</div>"
      ],
      "text/plain": [
       "            Nombre Ubicación  Superficie (km²)  Profundidad máxima (m)  \\\n",
       "49  Lago Pico Nº 1    Chubut                10                     NaN   \n",
       "51    Lago Rosario    Chubut                10                    57.0   \n",
       "\n",
       "    Profundidad media (m)            Coordenadas Sup Tamaño Latitud en GMS  \\\n",
       "49                    NaN   44°14'31\"S 71°30'8\"O      chico     44°14'31\"S   \n",
       "51                   25.0  43°15'36\"S 71°20'48\"O      chico     43°15'36\"S   \n",
       "\n",
       "   Longitud en GMS        lat        lng  \n",
       "49       71°30'8\"O -44.241944 -71.502222  \n",
       "51      71°20'48\"O -43.260000 -71.346667  "
      ]
     },
     "execution_count": 72,
     "metadata": {},
     "output_type": "execute_result"
    }
   ],
   "source": [
    "chubut=lp(\"Chubut\")\n",
    "superficiechu=chubut[chubut['Superficie (km²)']<=10]\n",
    "superficiechu"
   ]
  },
  {
   "cell_type": "markdown",
   "id": "53035ae7-aaf2-4569-9b8c-bf19c08ffc99",
   "metadata": {},
   "source": [
    "# ✅ Etapa 4: Valores Nulos y Estadísticas (10 min)\n",
    "* ¿Qué podemos analizar sobre los valores de la profundidad máxima y media de los lagos?\n",
    "* ¿Entre qué valores están ambas mediciones? **Nota**: describe().\n",
    "* Realicemos un gráfico de barras para comparar **Profundidad máxima** y **Profundidad media** de los lagos.\n",
    "    \n",
    "* ¿Hay valores nulos? **Nota**: info().\n",
    "* Investigar sobre gráficos tipo scatter o dispersión."
   ]
  },
  {
   "cell_type": "markdown",
   "id": "312d39ea-e0ba-4e78-a42a-fb5081e89a95",
   "metadata": {},
   "source": [
    "## ¿Qué podemos analizar sobre los valores de la profundidad máxima y media de los lagos?\n"
   ]
  },
  {
   "cell_type": "code",
   "execution_count": null,
   "id": "8e4c4476-396a-48b3-b499-c721a12049ba",
   "metadata": {},
   "outputs": [],
   "source": []
  },
  {
   "cell_type": "markdown",
   "id": "a14ca8ea-cc19-4e93-987c-1d5b8a4c5212",
   "metadata": {},
   "source": [
    "##  ¿Entre qué valores están ambas mediciones?"
   ]
  },
  {
   "cell_type": "code",
   "execution_count": null,
   "id": "6e554735-3c93-4cfd-a9da-f176ac7d026d",
   "metadata": {},
   "outputs": [],
   "source": []
  },
  {
   "cell_type": "markdown",
   "id": "95c3053d-160e-405e-9729-ff61076389fa",
   "metadata": {},
   "source": [
    "## Realicemos un gráfico para comparar **Profundidad máxima** y **Profundidad media** de los lagos."
   ]
  },
  {
   "cell_type": "code",
   "execution_count": null,
   "id": "12fa85cc-9cb9-4e15-8aef-db40245d7207",
   "metadata": {},
   "outputs": [],
   "source": [
    "import plotly.express as px\n",
    "fig = px.bar(completar, \n",
    "             x=\"Nombre\", \n",
    "             y=[\"nombre columna1\", \"nombre columna2\"],\n",
    "             barmode='group',\n",
    "             title=\"Comparación de Profundidades de Lagos\",\n",
    "             labels={\"value\": \"Metros\", \"variable\": \"Tipo de Profundidad\"},\n",
    "             color_discrete_sequence=[\"#1E90FF\", \"#00BFFF\"])\n",
    "\n",
    "fig.show()"
   ]
  },
  {
   "cell_type": "markdown",
   "id": "222d10e8-8318-4585-8683-e8b4a8828621",
   "metadata": {},
   "source": [
    "¿Qué pasa en con los datos de algunos lagos?"
   ]
  },
  {
   "cell_type": "markdown",
   "id": "b693802b-7a8f-4917-920d-ab434af4730f",
   "metadata": {},
   "source": [
    "## ¿Hay valores nulos? **Nota**: info()"
   ]
  },
  {
   "cell_type": "code",
   "execution_count": null,
   "id": "dcd79dac-72cb-48b8-9e6d-5c8134956552",
   "metadata": {},
   "outputs": [],
   "source": []
  },
  {
   "cell_type": "markdown",
   "id": "104e9cf7-e658-4b24-976c-251da55926a7",
   "metadata": {},
   "source": [
    "## Gráfico de dispersión"
   ]
  },
  {
   "cell_type": "markdown",
   "id": "b6b035d8-62c7-4e52-95c0-fad1a8dd2697",
   "metadata": {},
   "source": [
    "¿Qué datos compara este gráfico?"
   ]
  },
  {
   "cell_type": "code",
   "execution_count": null,
   "id": "dbb9201b-b068-4bb1-ad7a-ae6df39c358d",
   "metadata": {},
   "outputs": [],
   "source": [
    "fig = px.scatter(lagos, \n",
    "                 x=\"Profundidad media (m)\", \n",
    "                 y=\"Superficie (km²)\",\n",
    "                 \n",
    "                 title=\"Relación: Profundidad Media vs. Superficie\")  \n",
    "\n",
    "fig.update_traces(textposition='top center', marker=dict(size=12))\n",
    "fig.show()"
   ]
  },
  {
   "cell_type": "markdown",
   "id": "70403da3-ab22-4fd7-b655-a345dec601ea",
   "metadata": {},
   "source": [
    "Modificar el gráfico para que compare la longitud y la Superficie."
   ]
  },
  {
   "cell_type": "code",
   "execution_count": null,
   "id": "53de3173-63fd-4913-ac25-345b16909f7f",
   "metadata": {},
   "outputs": [],
   "source": []
  },
  {
   "cell_type": "markdown",
   "id": "a7a928ab-7b96-46b2-bd10-72413bb559fb",
   "metadata": {},
   "source": [
    "# ✅ Etapa 5: Visualización con Mapas (15 min)\n",
    "* Otro recurso para visualizar datos geolocalizados son los mapas.\n",
    "* Mostrar todos los lagos en un mapa.\n",
    "* Mostrar los lagos de Chubut solamente.\n",
    "* Mostrar los lagos con color según su tamaño.\n",
    "* Mostrar los datos de otro dataset.\n"
   ]
  },
  {
   "cell_type": "markdown",
   "id": "064068da-348e-4c50-8288-9600f3dc9db8",
   "metadata": {},
   "source": [
    "## La librería folium nos permite mostrar datos en mapas"
   ]
  },
  {
   "cell_type": "code",
   "execution_count": 43,
   "id": "89ec42f7-dd1f-44a2-aafc-ef629138535a",
   "metadata": {},
   "outputs": [],
   "source": [
    "import folium"
   ]
  },
  {
   "cell_type": "markdown",
   "id": "098ef78a-5282-474e-840b-7fb6cb64386c",
   "metadata": {},
   "source": [
    "* ¿Qué datos nos indican un punto geográfico en un mapa?\n",
    "* ¿En qué columnas están estos datos?"
   ]
  },
  {
   "cell_type": "code",
   "execution_count": null,
   "id": "23ced665-e68d-48ab-acb0-923dcefc9fe0",
   "metadata": {},
   "outputs": [],
   "source": []
  },
  {
   "cell_type": "markdown",
   "id": "0e27d20e-c70f-4bf4-b6fc-05e5df1e8bee",
   "metadata": {},
   "source": [
    "## 📌 Paso 1.Vamos a generar un mapa **base** para luego agregar los puntos\n",
    "* Esta función configura un mapa para mostrar de la República Argentina, realizados por [Instituto Geográfico Nacional](https://www.ign.gob.ar/)\n",
    "* ¿Sabemos qué es una funciòn?"
   ]
  },
  {
   "cell_type": "code",
   "execution_count": 44,
   "id": "b172e03e-f8c0-4a27-afc8-02258770c53b",
   "metadata": {},
   "outputs": [],
   "source": [
    "def generar_mapa():\n",
    "    attr = (\n",
    "        '&copy; <a href=\"https://www.openstreetmap.org/copyright\">OpenStreetMap</a> '\n",
    "        'contributors, &copy; <a href=\"https://cartodb.com/attributions\">CartoDB</a>'\n",
    "    )\n",
    "    \n",
    "    tiles = 'https://wms.ign.gob.ar/geoserver/gwc/service/tms/1.0.0/capabaseargenmap@EPSG%3A3857@png/{z}/{x}/{-y}.png'\n",
    "    m = folium.Map(\n",
    "        location=(-33.457606, -65.346857),\n",
    "        control_scale=True,\n",
    "        zoom_start=5,\n",
    "        name='es',\n",
    "        tiles=tiles,\n",
    "        attr=attr\n",
    "    )\n",
    "    return m"
   ]
  },
  {
   "cell_type": "markdown",
   "id": "c14796d7-45fa-489f-befe-9c8f8fa655ef",
   "metadata": {},
   "source": [
    "Usamos la función **generar_mapa** para tener nuestro mapa base"
   ]
  },
  {
   "cell_type": "code",
   "execution_count": 49,
   "id": "917c2725-8d45-4d73-96b6-599a98a5397c",
   "metadata": {},
   "outputs": [
    {
     "data": {
      "text/html": [
       "<div style=\"width:100%;\"><div style=\"position:relative;width:100%;height:0;padding-bottom:60%;\"><span style=\"color:#565656\">Make this Notebook Trusted to load map: File -> Trust Notebook</span><iframe srcdoc=\"&lt;!DOCTYPE html&gt;\n",
       "&lt;html&gt;\n",
       "&lt;head&gt;\n",
       "    \n",
       "    &lt;meta http-equiv=&quot;content-type&quot; content=&quot;text/html; charset=UTF-8&quot; /&gt;\n",
       "    &lt;script src=&quot;https://cdn.jsdelivr.net/npm/leaflet@1.9.3/dist/leaflet.js&quot;&gt;&lt;/script&gt;\n",
       "    &lt;script src=&quot;https://code.jquery.com/jquery-3.7.1.min.js&quot;&gt;&lt;/script&gt;\n",
       "    &lt;script src=&quot;https://cdn.jsdelivr.net/npm/bootstrap@5.2.2/dist/js/bootstrap.bundle.min.js&quot;&gt;&lt;/script&gt;\n",
       "    &lt;script src=&quot;https://cdnjs.cloudflare.com/ajax/libs/Leaflet.awesome-markers/2.0.2/leaflet.awesome-markers.js&quot;&gt;&lt;/script&gt;\n",
       "    &lt;link rel=&quot;stylesheet&quot; href=&quot;https://cdn.jsdelivr.net/npm/leaflet@1.9.3/dist/leaflet.css&quot;/&gt;\n",
       "    &lt;link rel=&quot;stylesheet&quot; href=&quot;https://cdn.jsdelivr.net/npm/bootstrap@5.2.2/dist/css/bootstrap.min.css&quot;/&gt;\n",
       "    &lt;link rel=&quot;stylesheet&quot; href=&quot;https://netdna.bootstrapcdn.com/bootstrap/3.0.0/css/bootstrap-glyphicons.css&quot;/&gt;\n",
       "    &lt;link rel=&quot;stylesheet&quot; href=&quot;https://cdn.jsdelivr.net/npm/@fortawesome/fontawesome-free@6.2.0/css/all.min.css&quot;/&gt;\n",
       "    &lt;link rel=&quot;stylesheet&quot; href=&quot;https://cdnjs.cloudflare.com/ajax/libs/Leaflet.awesome-markers/2.0.2/leaflet.awesome-markers.css&quot;/&gt;\n",
       "    &lt;link rel=&quot;stylesheet&quot; href=&quot;https://cdn.jsdelivr.net/gh/python-visualization/folium/folium/templates/leaflet.awesome.rotate.min.css&quot;/&gt;\n",
       "    \n",
       "            &lt;meta name=&quot;viewport&quot; content=&quot;width=device-width,\n",
       "                initial-scale=1.0, maximum-scale=1.0, user-scalable=no&quot; /&gt;\n",
       "            &lt;style&gt;\n",
       "                #map_3f3e72a1a2c93748459fcb513528473e {\n",
       "                    position: relative;\n",
       "                    width: 100.0%;\n",
       "                    height: 100.0%;\n",
       "                    left: 0.0%;\n",
       "                    top: 0.0%;\n",
       "                }\n",
       "                .leaflet-container { font-size: 1rem; }\n",
       "            &lt;/style&gt;\n",
       "\n",
       "            &lt;style&gt;html, body {\n",
       "                width: 100%;\n",
       "                height: 100%;\n",
       "                margin: 0;\n",
       "                padding: 0;\n",
       "            }\n",
       "            &lt;/style&gt;\n",
       "\n",
       "            &lt;style&gt;#map {\n",
       "                position:absolute;\n",
       "                top:0;\n",
       "                bottom:0;\n",
       "                right:0;\n",
       "                left:0;\n",
       "                }\n",
       "            &lt;/style&gt;\n",
       "\n",
       "            &lt;script&gt;\n",
       "                L_NO_TOUCH = false;\n",
       "                L_DISABLE_3D = false;\n",
       "            &lt;/script&gt;\n",
       "\n",
       "        \n",
       "&lt;/head&gt;\n",
       "&lt;body&gt;\n",
       "    \n",
       "    \n",
       "            &lt;div class=&quot;folium-map&quot; id=&quot;map_3f3e72a1a2c93748459fcb513528473e&quot; &gt;&lt;/div&gt;\n",
       "        \n",
       "&lt;/body&gt;\n",
       "&lt;script&gt;\n",
       "    \n",
       "    \n",
       "            var map_3f3e72a1a2c93748459fcb513528473e = L.map(\n",
       "                &quot;map_3f3e72a1a2c93748459fcb513528473e&quot;,\n",
       "                {\n",
       "                    center: [-33.457606, -65.346857],\n",
       "                    crs: L.CRS.EPSG3857,\n",
       "                    ...{\n",
       "  &quot;zoom&quot;: 5,\n",
       "  &quot;zoomControl&quot;: true,\n",
       "  &quot;preferCanvas&quot;: false,\n",
       "  &quot;name&quot;: &quot;es&quot;,\n",
       "}\n",
       "\n",
       "                }\n",
       "            );\n",
       "            L.control.scale().addTo(map_3f3e72a1a2c93748459fcb513528473e);\n",
       "\n",
       "            \n",
       "\n",
       "        \n",
       "    \n",
       "            var tile_layer_bcc90ca4d5eb04be43ffd946a410ccaf = L.tileLayer(\n",
       "                &quot;https://wms.ign.gob.ar/geoserver/gwc/service/tms/1.0.0/capabaseargenmap@EPSG%3A3857@png/{z}/{x}/{-y}.png&quot;,\n",
       "                {\n",
       "  &quot;minZoom&quot;: 0,\n",
       "  &quot;maxZoom&quot;: 18,\n",
       "  &quot;maxNativeZoom&quot;: 18,\n",
       "  &quot;noWrap&quot;: false,\n",
       "  &quot;attribution&quot;: &quot;\\u0026copy; \\u003ca href=\\&quot;https://www.openstreetmap.org/copyright\\&quot;\\u003eOpenStreetMap\\u003c/a\\u003e contributors, \\u0026copy; \\u003ca href=\\&quot;https://cartodb.com/attributions\\&quot;\\u003eCartoDB\\u003c/a\\u003e&quot;,\n",
       "  &quot;subdomains&quot;: &quot;abc&quot;,\n",
       "  &quot;detectRetina&quot;: false,\n",
       "  &quot;tms&quot;: false,\n",
       "  &quot;opacity&quot;: 1,\n",
       "}\n",
       "\n",
       "            );\n",
       "        \n",
       "    \n",
       "            tile_layer_bcc90ca4d5eb04be43ffd946a410ccaf.addTo(map_3f3e72a1a2c93748459fcb513528473e);\n",
       "        \n",
       "&lt;/script&gt;\n",
       "&lt;/html&gt;\" style=\"position:absolute;width:100%;height:100%;left:0;top:0;border:none !important;\" allowfullscreen webkitallowfullscreen mozallowfullscreen></iframe></div></div>"
      ],
      "text/plain": [
       "<folium.folium.Map at 0x737834593e30>"
      ]
     },
     "execution_count": 49,
     "metadata": {},
     "output_type": "execute_result"
    }
   ],
   "source": [
    "generar_mapa()"
   ]
  },
  {
   "cell_type": "markdown",
   "id": "89141300-f394-47da-bf9c-7a5efb823b59",
   "metadata": {},
   "source": [
    "La variable **mapa** es nuestro mapa **base**"
   ]
  },
  {
   "cell_type": "markdown",
   "id": "29aedcd8-dee5-408e-9bf2-c2c2a1e005cb",
   "metadata": {},
   "source": [
    "## 📌 Paso 2. Definimos la función para poder agregar los puntos:\n",
    "En la celda de abajo pusimos el código de la función que permnite agregar los puntos:\n",
    "\n",
    "* la función **agregar_marca_lago** recibe cada fila e indicamos  los puntos que se encuentran en las columnas de las **coordenadas** de esta forma.\n",
    "```python\n",
    "[row['latitud'], row['longitud']],\n",
    "```\n",
    "* queremos que muestre el nombre del lago cuando hacemos clic sobre cada icono, ponemos el nombre de la columna **Nombre**,  donde se encuentra **ese dato**.\n",
    "```python\n",
    "popup=row['Nombre']\n",
    "```\n"
   ]
  },
  {
   "cell_type": "code",
   "execution_count": 12,
   "id": "9b8a3cbc-be01-4a7f-aa40-fece50fa9b4b",
   "metadata": {},
   "outputs": [],
   "source": [
    "def agregar_marca_lago(row):\n",
    "    folium.Marker(\n",
    "        [row['completar'], row['completar']],\n",
    "        popup=row['Nombre'],\n",
    "        icon=folium.Icon()\n",
    "        ).add_to(mapa)\n",
    "\n"
   ]
  },
  {
   "cell_type": "markdown",
   "id": "67f5027f-ee9d-4928-a380-1c6da8180198",
   "metadata": {},
   "source": [
    "## 📌 Paso 3. Agregamos los puntos al mapa:"
   ]
  },
  {
   "cell_type": "markdown",
   "id": "33df4c27-8ec1-424b-8900-ecb7ec4aa328",
   "metadata": {},
   "source": [
    "En la celda de abajo pusimos el código para poder agregar los puntos,  lo más importante para tener en cuenta:\n",
    "* el nombre de la variable que contiene los datos de los lagos **lagos** y para que agregue los puntos usamos:\n",
    "    * ```python\n",
    "      lagos.apply(nombre_funcion, axis=1)\n",
    "      ```\n",
    "* por úlitmo, mostramos el mapa, escribiendo el nombre de la variable del mapa."
   ]
  },
  {
   "cell_type": "code",
   "execution_count": null,
   "id": "c3a7e44a-37c6-46fb-a499-1796b2b2193c",
   "metadata": {},
   "outputs": [],
   "source": [
    "lagos.apply(agregar_marca_lago, axis=1)\n",
    "mapa"
   ]
  },
  {
   "cell_type": "markdown",
   "id": "132d5bc6-c287-471b-85bb-348560bd51dc",
   "metadata": {},
   "source": [
    "## Mostrar en un mapa los lagos de Chubut"
   ]
  },
  {
   "cell_type": "code",
   "execution_count": null,
   "id": "6b6abe97-12d8-4822-b436-fda020a14e30",
   "metadata": {},
   "outputs": [],
   "source": []
  },
  {
   "cell_type": "markdown",
   "id": "d0459b9d-6bb8-42e7-ab6f-984cd47704a3",
   "metadata": {},
   "source": [
    "## Mostrar los lagos con iconos de colores según su tamaño"
   ]
  },
  {
   "cell_type": "markdown",
   "id": "fd505695-f16e-439e-8761-a5b9d81c53f0",
   "metadata": {},
   "source": [
    "* ¿En qué columna están con valores categorizados los tamaños de los lagos?\n",
    "* ¿Cuáles son los tamaños?"
   ]
  },
  {
   "cell_type": "code",
   "execution_count": null,
   "id": "c04368c6-75c7-4f2f-af65-ba47f678c7a6",
   "metadata": {},
   "outputs": [],
   "source": []
  },
  {
   "cell_type": "code",
   "execution_count": null,
   "id": "d989c407-2755-4ddd-a3cc-b515655f82e1",
   "metadata": {},
   "outputs": [],
   "source": []
  },
  {
   "cell_type": "code",
   "execution_count": 50,
   "id": "2a7d25ec-1ebc-4c18-bf84-08bd83ea2dc2",
   "metadata": {},
   "outputs": [],
   "source": [
    "def agregar_marca_lago(row):\n",
    "    colores = {'tamaño1': 'red', 'tamaño2': 'blue', 'tamaño3': 'green'}\n",
    "    color = colores.get(row['Sup Tamaño'], 'gray')\n",
    "    folium.CircleMarker( \n",
    "        location=[row['lat'], row['lng']],\n",
    "        radius=6,\n",
    "        color=color,\n",
    "        fill=True,\n",
    "        popup=row['Nombre']\n",
    "        ).add_to(mapa)\n"
   ]
  },
  {
   "cell_type": "code",
   "execution_count": 51,
   "id": "45dc0b52-5ded-42c8-993b-aeb22cc43147",
   "metadata": {},
   "outputs": [
    {
     "data": {
      "text/html": [
       "<div style=\"width:100%;\"><div style=\"position:relative;width:100%;height:0;padding-bottom:60%;\"><span style=\"color:#565656\">Make this Notebook Trusted to load map: File -> Trust Notebook</span><iframe srcdoc=\"&lt;!DOCTYPE html&gt;\n",
       "&lt;html&gt;\n",
       "&lt;head&gt;\n",
       "    \n",
       "    &lt;meta http-equiv=&quot;content-type&quot; content=&quot;text/html; charset=UTF-8&quot; /&gt;\n",
       "    &lt;script src=&quot;https://cdn.jsdelivr.net/npm/leaflet@1.9.3/dist/leaflet.js&quot;&gt;&lt;/script&gt;\n",
       "    &lt;script src=&quot;https://code.jquery.com/jquery-3.7.1.min.js&quot;&gt;&lt;/script&gt;\n",
       "    &lt;script src=&quot;https://cdn.jsdelivr.net/npm/bootstrap@5.2.2/dist/js/bootstrap.bundle.min.js&quot;&gt;&lt;/script&gt;\n",
       "    &lt;script src=&quot;https://cdnjs.cloudflare.com/ajax/libs/Leaflet.awesome-markers/2.0.2/leaflet.awesome-markers.js&quot;&gt;&lt;/script&gt;\n",
       "    &lt;link rel=&quot;stylesheet&quot; href=&quot;https://cdn.jsdelivr.net/npm/leaflet@1.9.3/dist/leaflet.css&quot;/&gt;\n",
       "    &lt;link rel=&quot;stylesheet&quot; href=&quot;https://cdn.jsdelivr.net/npm/bootstrap@5.2.2/dist/css/bootstrap.min.css&quot;/&gt;\n",
       "    &lt;link rel=&quot;stylesheet&quot; href=&quot;https://netdna.bootstrapcdn.com/bootstrap/3.0.0/css/bootstrap-glyphicons.css&quot;/&gt;\n",
       "    &lt;link rel=&quot;stylesheet&quot; href=&quot;https://cdn.jsdelivr.net/npm/@fortawesome/fontawesome-free@6.2.0/css/all.min.css&quot;/&gt;\n",
       "    &lt;link rel=&quot;stylesheet&quot; href=&quot;https://cdnjs.cloudflare.com/ajax/libs/Leaflet.awesome-markers/2.0.2/leaflet.awesome-markers.css&quot;/&gt;\n",
       "    &lt;link rel=&quot;stylesheet&quot; href=&quot;https://cdn.jsdelivr.net/gh/python-visualization/folium/folium/templates/leaflet.awesome.rotate.min.css&quot;/&gt;\n",
       "    \n",
       "            &lt;meta name=&quot;viewport&quot; content=&quot;width=device-width,\n",
       "                initial-scale=1.0, maximum-scale=1.0, user-scalable=no&quot; /&gt;\n",
       "            &lt;style&gt;\n",
       "                #map_445dda8ffb24661ffd9807c795c1b973 {\n",
       "                    position: relative;\n",
       "                    width: 100.0%;\n",
       "                    height: 100.0%;\n",
       "                    left: 0.0%;\n",
       "                    top: 0.0%;\n",
       "                }\n",
       "                .leaflet-container { font-size: 1rem; }\n",
       "            &lt;/style&gt;\n",
       "\n",
       "            &lt;style&gt;html, body {\n",
       "                width: 100%;\n",
       "                height: 100%;\n",
       "                margin: 0;\n",
       "                padding: 0;\n",
       "            }\n",
       "            &lt;/style&gt;\n",
       "\n",
       "            &lt;style&gt;#map {\n",
       "                position:absolute;\n",
       "                top:0;\n",
       "                bottom:0;\n",
       "                right:0;\n",
       "                left:0;\n",
       "                }\n",
       "            &lt;/style&gt;\n",
       "\n",
       "            &lt;script&gt;\n",
       "                L_NO_TOUCH = false;\n",
       "                L_DISABLE_3D = false;\n",
       "            &lt;/script&gt;\n",
       "\n",
       "        \n",
       "&lt;/head&gt;\n",
       "&lt;body&gt;\n",
       "    \n",
       "    \n",
       "            &lt;div class=&quot;folium-map&quot; id=&quot;map_445dda8ffb24661ffd9807c795c1b973&quot; &gt;&lt;/div&gt;\n",
       "        \n",
       "&lt;/body&gt;\n",
       "&lt;script&gt;\n",
       "    \n",
       "    \n",
       "            var map_445dda8ffb24661ffd9807c795c1b973 = L.map(\n",
       "                &quot;map_445dda8ffb24661ffd9807c795c1b973&quot;,\n",
       "                {\n",
       "                    center: [-33.457606, -65.346857],\n",
       "                    crs: L.CRS.EPSG3857,\n",
       "                    ...{\n",
       "  &quot;zoom&quot;: 5,\n",
       "  &quot;zoomControl&quot;: true,\n",
       "  &quot;preferCanvas&quot;: false,\n",
       "  &quot;name&quot;: &quot;es&quot;,\n",
       "}\n",
       "\n",
       "                }\n",
       "            );\n",
       "            L.control.scale().addTo(map_445dda8ffb24661ffd9807c795c1b973);\n",
       "\n",
       "            \n",
       "\n",
       "        \n",
       "    \n",
       "            var tile_layer_68fbba775f453bc328b3bcbf245d8f56 = L.tileLayer(\n",
       "                &quot;https://wms.ign.gob.ar/geoserver/gwc/service/tms/1.0.0/capabaseargenmap@EPSG%3A3857@png/{z}/{x}/{-y}.png&quot;,\n",
       "                {\n",
       "  &quot;minZoom&quot;: 0,\n",
       "  &quot;maxZoom&quot;: 18,\n",
       "  &quot;maxNativeZoom&quot;: 18,\n",
       "  &quot;noWrap&quot;: false,\n",
       "  &quot;attribution&quot;: &quot;\\u0026copy; \\u003ca href=\\&quot;https://www.openstreetmap.org/copyright\\&quot;\\u003eOpenStreetMap\\u003c/a\\u003e contributors, \\u0026copy; \\u003ca href=\\&quot;https://cartodb.com/attributions\\&quot;\\u003eCartoDB\\u003c/a\\u003e&quot;,\n",
       "  &quot;subdomains&quot;: &quot;abc&quot;,\n",
       "  &quot;detectRetina&quot;: false,\n",
       "  &quot;tms&quot;: false,\n",
       "  &quot;opacity&quot;: 1,\n",
       "}\n",
       "\n",
       "            );\n",
       "        \n",
       "    \n",
       "            tile_layer_68fbba775f453bc328b3bcbf245d8f56.addTo(map_445dda8ffb24661ffd9807c795c1b973);\n",
       "        \n",
       "    \n",
       "            tile_layer_68fbba775f453bc328b3bcbf245d8f56.addTo(map_445dda8ffb24661ffd9807c795c1b973);\n",
       "        \n",
       "    \n",
       "            var circle_marker_ebf765697ea261dd421115886e8a26f2 = L.circleMarker(\n",
       "                [-50.24805555555556, -72.64527777777778],\n",
       "                {&quot;bubblingMouseEvents&quot;: true, &quot;color&quot;: &quot;gray&quot;, &quot;dashArray&quot;: null, &quot;dashOffset&quot;: null, &quot;fill&quot;: true, &quot;fillColor&quot;: &quot;gray&quot;, &quot;fillOpacity&quot;: 0.2, &quot;fillRule&quot;: &quot;evenodd&quot;, &quot;lineCap&quot;: &quot;round&quot;, &quot;lineJoin&quot;: &quot;round&quot;, &quot;opacity&quot;: 1.0, &quot;radius&quot;: 6, &quot;stroke&quot;: true, &quot;weight&quot;: 3}\n",
       "            ).addTo(map_445dda8ffb24661ffd9807c795c1b973);\n",
       "        \n",
       "    \n",
       "        var popup_f4355ac5bf7abfcd9eff134761c3bdde = L.popup({\n",
       "  &quot;maxWidth&quot;: &quot;100%&quot;,\n",
       "});\n",
       "\n",
       "        \n",
       "            \n",
       "                var html_11a40563845e525798edf881625251ed = $(`&lt;div id=&quot;html_11a40563845e525798edf881625251ed&quot; style=&quot;width: 100.0%; height: 100.0%;&quot;&gt;Lago Argentino&lt;/div&gt;`)[0];\n",
       "                popup_f4355ac5bf7abfcd9eff134761c3bdde.setContent(html_11a40563845e525798edf881625251ed);\n",
       "            \n",
       "        \n",
       "\n",
       "        circle_marker_ebf765697ea261dd421115886e8a26f2.bindPopup(popup_f4355ac5bf7abfcd9eff134761c3bdde)\n",
       "        ;\n",
       "\n",
       "        \n",
       "    \n",
       "    \n",
       "            var circle_marker_1a010cb53b1747f3c7bfa324bdf48244 = L.circleMarker(\n",
       "                [-49.62416666666667, -72.495],\n",
       "                {&quot;bubblingMouseEvents&quot;: true, &quot;color&quot;: &quot;gray&quot;, &quot;dashArray&quot;: null, &quot;dashOffset&quot;: null, &quot;fill&quot;: true, &quot;fillColor&quot;: &quot;gray&quot;, &quot;fillOpacity&quot;: 0.2, &quot;fillRule&quot;: &quot;evenodd&quot;, &quot;lineCap&quot;: &quot;round&quot;, &quot;lineJoin&quot;: &quot;round&quot;, &quot;opacity&quot;: 1.0, &quot;radius&quot;: 6, &quot;stroke&quot;: true, &quot;weight&quot;: 3}\n",
       "            ).addTo(map_445dda8ffb24661ffd9807c795c1b973);\n",
       "        \n",
       "    \n",
       "        var popup_71dc5807b1983bf5a1d935848db992c9 = L.popup({\n",
       "  &quot;maxWidth&quot;: &quot;100%&quot;,\n",
       "});\n",
       "\n",
       "        \n",
       "            \n",
       "                var html_ac5026575a6b6c21d93a256274a4c394 = $(`&lt;div id=&quot;html_ac5026575a6b6c21d93a256274a4c394&quot; style=&quot;width: 100.0%; height: 100.0%;&quot;&gt;Lago Viedma&lt;/div&gt;`)[0];\n",
       "                popup_71dc5807b1983bf5a1d935848db992c9.setContent(html_ac5026575a6b6c21d93a256274a4c394);\n",
       "            \n",
       "        \n",
       "\n",
       "        circle_marker_1a010cb53b1747f3c7bfa324bdf48244.bindPopup(popup_71dc5807b1983bf5a1d935848db992c9)\n",
       "        ;\n",
       "\n",
       "        \n",
       "    \n",
       "    \n",
       "            var circle_marker_89dbc8d5dfd08debc8ff471e24fe6e31 = L.circleMarker(\n",
       "                [-40.85444444444445, -71.61611111111111],\n",
       "                {&quot;bubblingMouseEvents&quot;: true, &quot;color&quot;: &quot;gray&quot;, &quot;dashArray&quot;: null, &quot;dashOffset&quot;: null, &quot;fill&quot;: true, &quot;fillColor&quot;: &quot;gray&quot;, &quot;fillOpacity&quot;: 0.2, &quot;fillRule&quot;: &quot;evenodd&quot;, &quot;lineCap&quot;: &quot;round&quot;, &quot;lineJoin&quot;: &quot;round&quot;, &quot;opacity&quot;: 1.0, &quot;radius&quot;: 6, &quot;stroke&quot;: true, &quot;weight&quot;: 3}\n",
       "            ).addTo(map_445dda8ffb24661ffd9807c795c1b973);\n",
       "        \n",
       "    \n",
       "        var popup_3b636aba40f7ec6c86e5ed02a5a9b7d8 = L.popup({\n",
       "  &quot;maxWidth&quot;: &quot;100%&quot;,\n",
       "});\n",
       "\n",
       "        \n",
       "            \n",
       "                var html_b0a441cbb10c281e4b48ce0eb72e527d = $(`&lt;div id=&quot;html_b0a441cbb10c281e4b48ce0eb72e527d&quot; style=&quot;width: 100.0%; height: 100.0%;&quot;&gt;Lago Nahuel Huapi&lt;/div&gt;`)[0];\n",
       "                popup_3b636aba40f7ec6c86e5ed02a5a9b7d8.setContent(html_b0a441cbb10c281e4b48ce0eb72e527d);\n",
       "            \n",
       "        \n",
       "\n",
       "        circle_marker_89dbc8d5dfd08debc8ff471e24fe6e31.bindPopup(popup_3b636aba40f7ec6c86e5ed02a5a9b7d8)\n",
       "        ;\n",
       "\n",
       "        \n",
       "    \n",
       "    \n",
       "            var circle_marker_f397148ec5213af1969664a11f966948 = L.circleMarker(\n",
       "                [-45.414722222222224, -69.19777777777779],\n",
       "                {&quot;bubblingMouseEvents&quot;: true, &quot;color&quot;: &quot;gray&quot;, &quot;dashArray&quot;: null, &quot;dashOffset&quot;: null, &quot;fill&quot;: true, &quot;fillColor&quot;: &quot;gray&quot;, &quot;fillOpacity&quot;: 0.2, &quot;fillRule&quot;: &quot;evenodd&quot;, &quot;lineCap&quot;: &quot;round&quot;, &quot;lineJoin&quot;: &quot;round&quot;, &quot;opacity&quot;: 1.0, &quot;radius&quot;: 6, &quot;stroke&quot;: true, &quot;weight&quot;: 3}\n",
       "            ).addTo(map_445dda8ffb24661ffd9807c795c1b973);\n",
       "        \n",
       "    \n",
       "        var popup_b66a69e45330a0c4c1a948451a8cb88d = L.popup({\n",
       "  &quot;maxWidth&quot;: &quot;100%&quot;,\n",
       "});\n",
       "\n",
       "        \n",
       "            \n",
       "                var html_c99db725169fdf6cd5402b3fa81a9797 = $(`&lt;div id=&quot;html_c99db725169fdf6cd5402b3fa81a9797&quot; style=&quot;width: 100.0%; height: 100.0%;&quot;&gt;Lago Musters&lt;/div&gt;`)[0];\n",
       "                popup_b66a69e45330a0c4c1a948451a8cb88d.setContent(html_c99db725169fdf6cd5402b3fa81a9797);\n",
       "            \n",
       "        \n",
       "\n",
       "        circle_marker_f397148ec5213af1969664a11f966948.bindPopup(popup_b66a69e45330a0c4c1a948451a8cb88d)\n",
       "        ;\n",
       "\n",
       "        \n",
       "    \n",
       "    \n",
       "            var circle_marker_579fbbdcb9179886f6992510b59a9e4e = L.circleMarker(\n",
       "                [-48.9175, -71.21472222222222],\n",
       "                {&quot;bubblingMouseEvents&quot;: true, &quot;color&quot;: &quot;gray&quot;, &quot;dashArray&quot;: null, &quot;dashOffset&quot;: null, &quot;fill&quot;: true, &quot;fillColor&quot;: &quot;gray&quot;, &quot;fillOpacity&quot;: 0.2, &quot;fillRule&quot;: &quot;evenodd&quot;, &quot;lineCap&quot;: &quot;round&quot;, &quot;lineJoin&quot;: &quot;round&quot;, &quot;opacity&quot;: 1.0, &quot;radius&quot;: 6, &quot;stroke&quot;: true, &quot;weight&quot;: 3}\n",
       "            ).addTo(map_445dda8ffb24661ffd9807c795c1b973);\n",
       "        \n",
       "    \n",
       "        var popup_90618139e9f678bb817c2bf5df0f93df = L.popup({\n",
       "  &quot;maxWidth&quot;: &quot;100%&quot;,\n",
       "});\n",
       "\n",
       "        \n",
       "            \n",
       "                var html_3e101fbeb7b335bacee8d7bcd2d16d9f = $(`&lt;div id=&quot;html_3e101fbeb7b335bacee8d7bcd2d16d9f&quot; style=&quot;width: 100.0%; height: 100.0%;&quot;&gt;Lago Cardiel&lt;/div&gt;`)[0];\n",
       "                popup_90618139e9f678bb817c2bf5df0f93df.setContent(html_3e101fbeb7b335bacee8d7bcd2d16d9f);\n",
       "            \n",
       "        \n",
       "\n",
       "        circle_marker_579fbbdcb9179886f6992510b59a9e4e.bindPopup(popup_90618139e9f678bb817c2bf5df0f93df)\n",
       "        ;\n",
       "\n",
       "        \n",
       "    \n",
       "    \n",
       "            var circle_marker_cdffa100fa12c65f72893d3754fdb9e6 = L.circleMarker(\n",
       "                [-37.12916666666667, -62.86472222222223],\n",
       "                {&quot;bubblingMouseEvents&quot;: true, &quot;color&quot;: &quot;gray&quot;, &quot;dashArray&quot;: null, &quot;dashOffset&quot;: null, &quot;fill&quot;: true, &quot;fillColor&quot;: &quot;gray&quot;, &quot;fillOpacity&quot;: 0.2, &quot;fillRule&quot;: &quot;evenodd&quot;, &quot;lineCap&quot;: &quot;round&quot;, &quot;lineJoin&quot;: &quot;round&quot;, &quot;opacity&quot;: 1.0, &quot;radius&quot;: 6, &quot;stroke&quot;: true, &quot;weight&quot;: 3}\n",
       "            ).addTo(map_445dda8ffb24661ffd9807c795c1b973);\n",
       "        \n",
       "    \n",
       "        var popup_98b24f7cf51ca7898f941145b3d9ef41 = L.popup({\n",
       "  &quot;maxWidth&quot;: &quot;100%&quot;,\n",
       "});\n",
       "\n",
       "        \n",
       "            \n",
       "                var html_43d53ea4fb77a2c51cd4db61826944c9 = $(`&lt;div id=&quot;html_43d53ea4fb77a2c51cd4db61826944c9&quot; style=&quot;width: 100.0%; height: 100.0%;&quot;&gt;Lago Epecuén&lt;/div&gt;`)[0];\n",
       "                popup_98b24f7cf51ca7898f941145b3d9ef41.setContent(html_43d53ea4fb77a2c51cd4db61826944c9);\n",
       "            \n",
       "        \n",
       "\n",
       "        circle_marker_cdffa100fa12c65f72893d3754fdb9e6.bindPopup(popup_98b24f7cf51ca7898f941145b3d9ef41)\n",
       "        ;\n",
       "\n",
       "        \n",
       "    \n",
       "    \n",
       "            var circle_marker_c2daeca2a84a1c233852f3cbfb17e68c = L.circleMarker(\n",
       "                [-38.706944444444446, -67.97305555555556],\n",
       "                {&quot;bubblingMouseEvents&quot;: true, &quot;color&quot;: &quot;gray&quot;, &quot;dashArray&quot;: null, &quot;dashOffset&quot;: null, &quot;fill&quot;: true, &quot;fillColor&quot;: &quot;gray&quot;, &quot;fillOpacity&quot;: 0.2, &quot;fillRule&quot;: &quot;evenodd&quot;, &quot;lineCap&quot;: &quot;round&quot;, &quot;lineJoin&quot;: &quot;round&quot;, &quot;opacity&quot;: 1.0, &quot;radius&quot;: 6, &quot;stroke&quot;: true, &quot;weight&quot;: 3}\n",
       "            ).addTo(map_445dda8ffb24661ffd9807c795c1b973);\n",
       "        \n",
       "    \n",
       "        var popup_f37fbb0426c9fc393315ff0c1565bd5d = L.popup({\n",
       "  &quot;maxWidth&quot;: &quot;100%&quot;,\n",
       "});\n",
       "\n",
       "        \n",
       "            \n",
       "                var html_37d721cff6bdcd087d20cf0ba5309e01 = $(`&lt;div id=&quot;html_37d721cff6bdcd087d20cf0ba5309e01&quot; style=&quot;width: 100.0%; height: 100.0%;&quot;&gt;Lago Pellegrini&lt;/div&gt;`)[0];\n",
       "                popup_f37fbb0426c9fc393315ff0c1565bd5d.setContent(html_37d721cff6bdcd087d20cf0ba5309e01);\n",
       "            \n",
       "        \n",
       "\n",
       "        circle_marker_c2daeca2a84a1c233852f3cbfb17e68c.bindPopup(popup_f37fbb0426c9fc393315ff0c1565bd5d)\n",
       "        ;\n",
       "\n",
       "        \n",
       "    \n",
       "    \n",
       "            var circle_marker_0c28370abd1ae3eb95f16d5c24c600f6 = L.circleMarker(\n",
       "                [-48.43277777777777, -71.19027777777778],\n",
       "                {&quot;bubblingMouseEvents&quot;: true, &quot;color&quot;: &quot;gray&quot;, &quot;dashArray&quot;: null, &quot;dashOffset&quot;: null, &quot;fill&quot;: true, &quot;fillColor&quot;: &quot;gray&quot;, &quot;fillOpacity&quot;: 0.2, &quot;fillRule&quot;: &quot;evenodd&quot;, &quot;lineCap&quot;: &quot;round&quot;, &quot;lineJoin&quot;: &quot;round&quot;, &quot;opacity&quot;: 1.0, &quot;radius&quot;: 6, &quot;stroke&quot;: true, &quot;weight&quot;: 3}\n",
       "            ).addTo(map_445dda8ffb24661ffd9807c795c1b973);\n",
       "        \n",
       "    \n",
       "        var popup_480f458089f5d72b2586366bb6302fdd = L.popup({\n",
       "  &quot;maxWidth&quot;: &quot;100%&quot;,\n",
       "});\n",
       "\n",
       "        \n",
       "            \n",
       "                var html_479701dabad201eabb4723ce764a7129 = $(`&lt;div id=&quot;html_479701dabad201eabb4723ce764a7129&quot; style=&quot;width: 100.0%; height: 100.0%;&quot;&gt;Lago Strobel&lt;/div&gt;`)[0];\n",
       "                popup_480f458089f5d72b2586366bb6302fdd.setContent(html_479701dabad201eabb4723ce764a7129);\n",
       "            \n",
       "        \n",
       "\n",
       "        circle_marker_0c28370abd1ae3eb95f16d5c24c600f6.bindPopup(popup_480f458089f5d72b2586366bb6302fdd)\n",
       "        ;\n",
       "\n",
       "        \n",
       "    \n",
       "    \n",
       "            var circle_marker_44a1e37a2b5ad1ecb98909017dab3fa3 = L.circleMarker(\n",
       "                [-44.921388888888885, -71.49583333333334],\n",
       "                {&quot;bubblingMouseEvents&quot;: true, &quot;color&quot;: &quot;gray&quot;, &quot;dashArray&quot;: null, &quot;dashOffset&quot;: null, &quot;fill&quot;: true, &quot;fillColor&quot;: &quot;gray&quot;, &quot;fillOpacity&quot;: 0.2, &quot;fillRule&quot;: &quot;evenodd&quot;, &quot;lineCap&quot;: &quot;round&quot;, &quot;lineJoin&quot;: &quot;round&quot;, &quot;opacity&quot;: 1.0, &quot;radius&quot;: 6, &quot;stroke&quot;: true, &quot;weight&quot;: 3}\n",
       "            ).addTo(map_445dda8ffb24661ffd9807c795c1b973);\n",
       "        \n",
       "    \n",
       "        var popup_1b480fc2cd613d78da03dae4bc9d68c4 = L.popup({\n",
       "  &quot;maxWidth&quot;: &quot;100%&quot;,\n",
       "});\n",
       "\n",
       "        \n",
       "            \n",
       "                var html_3a9971547e6654ca76d64f54cbe58321 = $(`&lt;div id=&quot;html_3a9971547e6654ca76d64f54cbe58321&quot; style=&quot;width: 100.0%; height: 100.0%;&quot;&gt;Lago Fontana&lt;/div&gt;`)[0];\n",
       "                popup_1b480fc2cd613d78da03dae4bc9d68c4.setContent(html_3a9971547e6654ca76d64f54cbe58321);\n",
       "            \n",
       "        \n",
       "\n",
       "        circle_marker_44a1e37a2b5ad1ecb98909017dab3fa3.bindPopup(popup_1b480fc2cd613d78da03dae4bc9d68c4)\n",
       "        ;\n",
       "\n",
       "        \n",
       "    \n",
       "    \n",
       "            var circle_marker_2cd8b44dd24cc93b1b28246e920b16c8 = L.circleMarker(\n",
       "                [-39.77444444444444, -71.50888888888889],\n",
       "                {&quot;bubblingMouseEvents&quot;: true, &quot;color&quot;: &quot;gray&quot;, &quot;dashArray&quot;: null, &quot;dashOffset&quot;: null, &quot;fill&quot;: true, &quot;fillColor&quot;: &quot;gray&quot;, &quot;fillOpacity&quot;: 0.2, &quot;fillRule&quot;: &quot;evenodd&quot;, &quot;lineCap&quot;: &quot;round&quot;, &quot;lineJoin&quot;: &quot;round&quot;, &quot;opacity&quot;: 1.0, &quot;radius&quot;: 6, &quot;stroke&quot;: true, &quot;weight&quot;: 3}\n",
       "            ).addTo(map_445dda8ffb24661ffd9807c795c1b973);\n",
       "        \n",
       "    \n",
       "        var popup_2416eab4509ac46867180eb63940d106 = L.popup({\n",
       "  &quot;maxWidth&quot;: &quot;100%&quot;,\n",
       "});\n",
       "\n",
       "        \n",
       "            \n",
       "                var html_5b8ef2b0029e2abb5dc93ef1af7e6d75 = $(`&lt;div id=&quot;html_5b8ef2b0029e2abb5dc93ef1af7e6d75&quot; style=&quot;width: 100.0%; height: 100.0%;&quot;&gt;Lago Huechulafquen&lt;/div&gt;`)[0];\n",
       "                popup_2416eab4509ac46867180eb63940d106.setContent(html_5b8ef2b0029e2abb5dc93ef1af7e6d75);\n",
       "            \n",
       "        \n",
       "\n",
       "        circle_marker_2cd8b44dd24cc93b1b28246e920b16c8.bindPopup(popup_2416eab4509ac46867180eb63940d106)\n",
       "        ;\n",
       "\n",
       "        \n",
       "    \n",
       "    \n",
       "            var circle_marker_6710b3f998efd7c56caabe5229922924 = L.circleMarker(\n",
       "                [-40.63055555555555, -71.41527777777779],\n",
       "                {&quot;bubblingMouseEvents&quot;: true, &quot;color&quot;: &quot;gray&quot;, &quot;dashArray&quot;: null, &quot;dashOffset&quot;: null, &quot;fill&quot;: true, &quot;fillColor&quot;: &quot;gray&quot;, &quot;fillOpacity&quot;: 0.2, &quot;fillRule&quot;: &quot;evenodd&quot;, &quot;lineCap&quot;: &quot;round&quot;, &quot;lineJoin&quot;: &quot;round&quot;, &quot;opacity&quot;: 1.0, &quot;radius&quot;: 6, &quot;stroke&quot;: true, &quot;weight&quot;: 3}\n",
       "            ).addTo(map_445dda8ffb24661ffd9807c795c1b973);\n",
       "        \n",
       "    \n",
       "        var popup_f8bb7915daea48e53cedb1b50d466590 = L.popup({\n",
       "  &quot;maxWidth&quot;: &quot;100%&quot;,\n",
       "});\n",
       "\n",
       "        \n",
       "            \n",
       "                var html_6b1231794ef2644cb58c1a5ac3748d71 = $(`&lt;div id=&quot;html_6b1231794ef2644cb58c1a5ac3748d71&quot; style=&quot;width: 100.0%; height: 100.0%;&quot;&gt;Lago Traful&lt;/div&gt;`)[0];\n",
       "                popup_f8bb7915daea48e53cedb1b50d466590.setContent(html_6b1231794ef2644cb58c1a5ac3748d71);\n",
       "            \n",
       "        \n",
       "\n",
       "        circle_marker_6710b3f998efd7c56caabe5229922924.bindPopup(popup_f8bb7915daea48e53cedb1b50d466590)\n",
       "        ;\n",
       "\n",
       "        \n",
       "    \n",
       "    \n",
       "            var circle_marker_29321b9ab1b3abeb17af8794fece518f = L.circleMarker(\n",
       "                [-44.85916666666667, -71.82],\n",
       "                {&quot;bubblingMouseEvents&quot;: true, &quot;color&quot;: &quot;gray&quot;, &quot;dashArray&quot;: null, &quot;dashOffset&quot;: null, &quot;fill&quot;: true, &quot;fillColor&quot;: &quot;gray&quot;, &quot;fillOpacity&quot;: 0.2, &quot;fillRule&quot;: &quot;evenodd&quot;, &quot;lineCap&quot;: &quot;round&quot;, &quot;lineJoin&quot;: &quot;round&quot;, &quot;opacity&quot;: 1.0, &quot;radius&quot;: 6, &quot;stroke&quot;: true, &quot;weight&quot;: 3}\n",
       "            ).addTo(map_445dda8ffb24661ffd9807c795c1b973);\n",
       "        \n",
       "    \n",
       "        var popup_b0be660897ff19eb15f88505a1433055 = L.popup({\n",
       "  &quot;maxWidth&quot;: &quot;100%&quot;,\n",
       "});\n",
       "\n",
       "        \n",
       "            \n",
       "                var html_7e4f2b2ae0a4b48b11216ba42e219f5f = $(`&lt;div id=&quot;html_7e4f2b2ae0a4b48b11216ba42e219f5f&quot; style=&quot;width: 100.0%; height: 100.0%;&quot;&gt;Lago La Plata&lt;/div&gt;`)[0];\n",
       "                popup_b0be660897ff19eb15f88505a1433055.setContent(html_7e4f2b2ae0a4b48b11216ba42e219f5f);\n",
       "            \n",
       "        \n",
       "\n",
       "        circle_marker_29321b9ab1b3abeb17af8794fece518f.bindPopup(popup_b0be660897ff19eb15f88505a1433055)\n",
       "        ;\n",
       "\n",
       "        \n",
       "    \n",
       "    \n",
       "            var circle_marker_fbf09352097f74d8e1182d0cf510aae0 = L.circleMarker(\n",
       "                [-47.28833333333333, -71.53027777777778],\n",
       "                {&quot;bubblingMouseEvents&quot;: true, &quot;color&quot;: &quot;gray&quot;, &quot;dashArray&quot;: null, &quot;dashOffset&quot;: null, &quot;fill&quot;: true, &quot;fillColor&quot;: &quot;gray&quot;, &quot;fillOpacity&quot;: 0.2, &quot;fillRule&quot;: &quot;evenodd&quot;, &quot;lineCap&quot;: &quot;round&quot;, &quot;lineJoin&quot;: &quot;round&quot;, &quot;opacity&quot;: 1.0, &quot;radius&quot;: 6, &quot;stroke&quot;: true, &quot;weight&quot;: 3}\n",
       "            ).addTo(map_445dda8ffb24661ffd9807c795c1b973);\n",
       "        \n",
       "    \n",
       "        var popup_78a8cef12d0170147ee8ccbe9fdac32f = L.popup({\n",
       "  &quot;maxWidth&quot;: &quot;100%&quot;,\n",
       "});\n",
       "\n",
       "        \n",
       "            \n",
       "                var html_031e9be7c8e706d56a7dc823e29a9100 = $(`&lt;div id=&quot;html_031e9be7c8e706d56a7dc823e29a9100&quot; style=&quot;width: 100.0%; height: 100.0%;&quot;&gt;Lago Ghío&lt;/div&gt;`)[0];\n",
       "                popup_78a8cef12d0170147ee8ccbe9fdac32f.setContent(html_031e9be7c8e706d56a7dc823e29a9100);\n",
       "            \n",
       "        \n",
       "\n",
       "        circle_marker_fbf09352097f74d8e1182d0cf510aae0.bindPopup(popup_78a8cef12d0170147ee8ccbe9fdac32f)\n",
       "        ;\n",
       "\n",
       "        \n",
       "    \n",
       "    \n",
       "            var circle_marker_e4c0d7ba39c8219fcd9b349443b8c155 = L.circleMarker(\n",
       "                [-42.69111111111111, -71.8625],\n",
       "                {&quot;bubblingMouseEvents&quot;: true, &quot;color&quot;: &quot;gray&quot;, &quot;dashArray&quot;: null, &quot;dashOffset&quot;: null, &quot;fill&quot;: true, &quot;fillColor&quot;: &quot;gray&quot;, &quot;fillOpacity&quot;: 0.2, &quot;fillRule&quot;: &quot;evenodd&quot;, &quot;lineCap&quot;: &quot;round&quot;, &quot;lineJoin&quot;: &quot;round&quot;, &quot;opacity&quot;: 1.0, &quot;radius&quot;: 6, &quot;stroke&quot;: true, &quot;weight&quot;: 3}\n",
       "            ).addTo(map_445dda8ffb24661ffd9807c795c1b973);\n",
       "        \n",
       "    \n",
       "        var popup_86de7f94bd334e80e229464b201015a7 = L.popup({\n",
       "  &quot;maxWidth&quot;: &quot;100%&quot;,\n",
       "});\n",
       "\n",
       "        \n",
       "            \n",
       "                var html_dcbb72a94f0a49f36750bd58e3d127a6 = $(`&lt;div id=&quot;html_dcbb72a94f0a49f36750bd58e3d127a6&quot; style=&quot;width: 100.0%; height: 100.0%;&quot;&gt;Lago Menéndez&lt;/div&gt;`)[0];\n",
       "                popup_86de7f94bd334e80e229464b201015a7.setContent(html_dcbb72a94f0a49f36750bd58e3d127a6);\n",
       "            \n",
       "        \n",
       "\n",
       "        circle_marker_e4c0d7ba39c8219fcd9b349443b8c155.bindPopup(popup_86de7f94bd334e80e229464b201015a7)\n",
       "        ;\n",
       "\n",
       "        \n",
       "    \n",
       "    \n",
       "            var circle_marker_c8676db56d48026a8381ba29ad0badb1 = L.circleMarker(\n",
       "                [-38.92166666666667, -71.12638888888888],\n",
       "                {&quot;bubblingMouseEvents&quot;: true, &quot;color&quot;: &quot;gray&quot;, &quot;dashArray&quot;: null, &quot;dashOffset&quot;: null, &quot;fill&quot;: true, &quot;fillColor&quot;: &quot;gray&quot;, &quot;fillOpacity&quot;: 0.2, &quot;fillRule&quot;: &quot;evenodd&quot;, &quot;lineCap&quot;: &quot;round&quot;, &quot;lineJoin&quot;: &quot;round&quot;, &quot;opacity&quot;: 1.0, &quot;radius&quot;: 6, &quot;stroke&quot;: true, &quot;weight&quot;: 3}\n",
       "            ).addTo(map_445dda8ffb24661ffd9807c795c1b973);\n",
       "        \n",
       "    \n",
       "        var popup_15b0c55ca39ebe305e0a73800b354765 = L.popup({\n",
       "  &quot;maxWidth&quot;: &quot;100%&quot;,\n",
       "});\n",
       "\n",
       "        \n",
       "            \n",
       "                var html_16bff469eb5fadf518446f3385b1f547 = $(`&lt;div id=&quot;html_16bff469eb5fadf518446f3385b1f547&quot; style=&quot;width: 100.0%; height: 100.0%;&quot;&gt;Lago Aluminé&lt;/div&gt;`)[0];\n",
       "                popup_15b0c55ca39ebe305e0a73800b354765.setContent(html_16bff469eb5fadf518446f3385b1f547);\n",
       "            \n",
       "        \n",
       "\n",
       "        circle_marker_c8676db56d48026a8381ba29ad0badb1.bindPopup(popup_15b0c55ca39ebe305e0a73800b354765)\n",
       "        ;\n",
       "\n",
       "        \n",
       "    \n",
       "    \n",
       "            var circle_marker_592511da69458a7dd9667c3a38063558 = L.circleMarker(\n",
       "                [-40.1625, -71.4363888888889],\n",
       "                {&quot;bubblingMouseEvents&quot;: true, &quot;color&quot;: &quot;gray&quot;, &quot;dashArray&quot;: null, &quot;dashOffset&quot;: null, &quot;fill&quot;: true, &quot;fillColor&quot;: &quot;gray&quot;, &quot;fillOpacity&quot;: 0.2, &quot;fillRule&quot;: &quot;evenodd&quot;, &quot;lineCap&quot;: &quot;round&quot;, &quot;lineJoin&quot;: &quot;round&quot;, &quot;opacity&quot;: 1.0, &quot;radius&quot;: 6, &quot;stroke&quot;: true, &quot;weight&quot;: 3}\n",
       "            ).addTo(map_445dda8ffb24661ffd9807c795c1b973);\n",
       "        \n",
       "    \n",
       "        var popup_1bc04137c6d4667076afb617eca5a194 = L.popup({\n",
       "  &quot;maxWidth&quot;: &quot;100%&quot;,\n",
       "});\n",
       "\n",
       "        \n",
       "            \n",
       "                var html_3291e65c9485b2e35a27a00288847939 = $(`&lt;div id=&quot;html_3291e65c9485b2e35a27a00288847939&quot; style=&quot;width: 100.0%; height: 100.0%;&quot;&gt;Lago Lácar&lt;/div&gt;`)[0];\n",
       "                popup_1bc04137c6d4667076afb617eca5a194.setContent(html_3291e65c9485b2e35a27a00288847939);\n",
       "            \n",
       "        \n",
       "\n",
       "        circle_marker_592511da69458a7dd9667c3a38063558.bindPopup(popup_1bc04137c6d4667076afb617eca5a194)\n",
       "        ;\n",
       "\n",
       "        \n",
       "    \n",
       "    \n",
       "            var circle_marker_8e46afebd99d14da7d78dacad39b16af = L.circleMarker(\n",
       "                [-54.41194444444445, -67.71527777777779],\n",
       "                {&quot;bubblingMouseEvents&quot;: true, &quot;color&quot;: &quot;gray&quot;, &quot;dashArray&quot;: null, &quot;dashOffset&quot;: null, &quot;fill&quot;: true, &quot;fillColor&quot;: &quot;gray&quot;, &quot;fillOpacity&quot;: 0.2, &quot;fillRule&quot;: &quot;evenodd&quot;, &quot;lineCap&quot;: &quot;round&quot;, &quot;lineJoin&quot;: &quot;round&quot;, &quot;opacity&quot;: 1.0, &quot;radius&quot;: 6, &quot;stroke&quot;: true, &quot;weight&quot;: 3}\n",
       "            ).addTo(map_445dda8ffb24661ffd9807c795c1b973);\n",
       "        \n",
       "    \n",
       "        var popup_a2c7713cc10c14267fa3d5419089b8d9 = L.popup({\n",
       "  &quot;maxWidth&quot;: &quot;100%&quot;,\n",
       "});\n",
       "\n",
       "        \n",
       "            \n",
       "                var html_f17b226d5a9fb4b900eef080a0b6b7d2 = $(`&lt;div id=&quot;html_f17b226d5a9fb4b900eef080a0b6b7d2&quot; style=&quot;width: 100.0%; height: 100.0%;&quot;&gt;Lago Yehuin&lt;/div&gt;`)[0];\n",
       "                popup_a2c7713cc10c14267fa3d5419089b8d9.setContent(html_f17b226d5a9fb4b900eef080a0b6b7d2);\n",
       "            \n",
       "        \n",
       "\n",
       "        circle_marker_8e46afebd99d14da7d78dacad39b16af.bindPopup(popup_a2c7713cc10c14267fa3d5419089b8d9)\n",
       "        ;\n",
       "\n",
       "        \n",
       "    \n",
       "    \n",
       "            var circle_marker_b555e261ab1d474e1dc23c3a41f93fe2 = L.circleMarker(\n",
       "                [-48.41694444444444, -71.55083333333333],\n",
       "                {&quot;bubblingMouseEvents&quot;: true, &quot;color&quot;: &quot;gray&quot;, &quot;dashArray&quot;: null, &quot;dashOffset&quot;: null, &quot;fill&quot;: true, &quot;fillColor&quot;: &quot;gray&quot;, &quot;fillOpacity&quot;: 0.2, &quot;fillRule&quot;: &quot;evenodd&quot;, &quot;lineCap&quot;: &quot;round&quot;, &quot;lineJoin&quot;: &quot;round&quot;, &quot;opacity&quot;: 1.0, &quot;radius&quot;: 6, &quot;stroke&quot;: true, &quot;weight&quot;: 3}\n",
       "            ).addTo(map_445dda8ffb24661ffd9807c795c1b973);\n",
       "        \n",
       "    \n",
       "        var popup_f53090aee54326489b75c482983d4f1c = L.popup({\n",
       "  &quot;maxWidth&quot;: &quot;100%&quot;,\n",
       "});\n",
       "\n",
       "        \n",
       "            \n",
       "                var html_aa5b98734423305067d4ca86198021d2 = $(`&lt;div id=&quot;html_aa5b98734423305067d4ca86198021d2&quot; style=&quot;width: 100.0%; height: 100.0%;&quot;&gt;Lago Quiroga&lt;/div&gt;`)[0];\n",
       "                popup_f53090aee54326489b75c482983d4f1c.setContent(html_aa5b98734423305067d4ca86198021d2);\n",
       "            \n",
       "        \n",
       "\n",
       "        circle_marker_b555e261ab1d474e1dc23c3a41f93fe2.bindPopup(popup_f53090aee54326489b75c482983d4f1c)\n",
       "        ;\n",
       "\n",
       "        \n",
       "    \n",
       "    \n",
       "            var circle_marker_e50c6474834c15c427a12805dc15af7f = L.circleMarker(\n",
       "                [-42.15083333333333, -71.64972222222222],\n",
       "                {&quot;bubblingMouseEvents&quot;: true, &quot;color&quot;: &quot;gray&quot;, &quot;dashArray&quot;: null, &quot;dashOffset&quot;: null, &quot;fill&quot;: true, &quot;fillColor&quot;: &quot;gray&quot;, &quot;fillOpacity&quot;: 0.2, &quot;fillRule&quot;: &quot;evenodd&quot;, &quot;lineCap&quot;: &quot;round&quot;, &quot;lineJoin&quot;: &quot;round&quot;, &quot;opacity&quot;: 1.0, &quot;radius&quot;: 6, &quot;stroke&quot;: true, &quot;weight&quot;: 3}\n",
       "            ).addTo(map_445dda8ffb24661ffd9807c795c1b973);\n",
       "        \n",
       "    \n",
       "        var popup_c727e54119bf0965c1ea7c0e763cac86 = L.popup({\n",
       "  &quot;maxWidth&quot;: &quot;100%&quot;,\n",
       "});\n",
       "\n",
       "        \n",
       "            \n",
       "                var html_fe3eea989c2692a6d80fb20a00713bb5 = $(`&lt;div id=&quot;html_fe3eea989c2692a6d80fb20a00713bb5&quot; style=&quot;width: 100.0%; height: 100.0%;&quot;&gt;Lago Puelo&lt;/div&gt;`)[0];\n",
       "                popup_c727e54119bf0965c1ea7c0e763cac86.setContent(html_fe3eea989c2692a6d80fb20a00713bb5);\n",
       "            \n",
       "        \n",
       "\n",
       "        circle_marker_e50c6474834c15c427a12805dc15af7f.bindPopup(popup_c727e54119bf0965c1ea7c0e763cac86)\n",
       "        ;\n",
       "\n",
       "        \n",
       "    \n",
       "    \n",
       "            var circle_marker_972bcfad070c8ae46d72a84c5bee3560 = L.circleMarker(\n",
       "                [-47.97888888888889, -72.35305555555556],\n",
       "                {&quot;bubblingMouseEvents&quot;: true, &quot;color&quot;: &quot;gray&quot;, &quot;dashArray&quot;: null, &quot;dashOffset&quot;: null, &quot;fill&quot;: true, &quot;fillColor&quot;: &quot;gray&quot;, &quot;fillOpacity&quot;: 0.2, &quot;fillRule&quot;: &quot;evenodd&quot;, &quot;lineCap&quot;: &quot;round&quot;, &quot;lineJoin&quot;: &quot;round&quot;, &quot;opacity&quot;: 1.0, &quot;radius&quot;: 6, &quot;stroke&quot;: true, &quot;weight&quot;: 3}\n",
       "            ).addTo(map_445dda8ffb24661ffd9807c795c1b973);\n",
       "        \n",
       "    \n",
       "        var popup_4d4b56093b322724c1a7ef702bab5338 = L.popup({\n",
       "  &quot;maxWidth&quot;: &quot;100%&quot;,\n",
       "});\n",
       "\n",
       "        \n",
       "            \n",
       "                var html_cbd7419d651d18a242314ff3574f9059 = $(`&lt;div id=&quot;html_cbd7419d651d18a242314ff3574f9059&quot; style=&quot;width: 100.0%; height: 100.0%;&quot;&gt;Lago Nansen&lt;/div&gt;`)[0];\n",
       "                popup_4d4b56093b322724c1a7ef702bab5338.setContent(html_cbd7419d651d18a242314ff3574f9059);\n",
       "            \n",
       "        \n",
       "\n",
       "        circle_marker_972bcfad070c8ae46d72a84c5bee3560.bindPopup(popup_4d4b56093b322724c1a7ef702bab5338)\n",
       "        ;\n",
       "\n",
       "        \n",
       "    \n",
       "    \n",
       "            var circle_marker_e18a517de6f9de81495eae93a4f7c38d = L.circleMarker(\n",
       "                [-47.84388888888889, -72.14277777777778],\n",
       "                {&quot;bubblingMouseEvents&quot;: true, &quot;color&quot;: &quot;gray&quot;, &quot;dashArray&quot;: null, &quot;dashOffset&quot;: null, &quot;fill&quot;: true, &quot;fillColor&quot;: &quot;gray&quot;, &quot;fillOpacity&quot;: 0.2, &quot;fillRule&quot;: &quot;evenodd&quot;, &quot;lineCap&quot;: &quot;round&quot;, &quot;lineJoin&quot;: &quot;round&quot;, &quot;opacity&quot;: 1.0, &quot;radius&quot;: 6, &quot;stroke&quot;: true, &quot;weight&quot;: 3}\n",
       "            ).addTo(map_445dda8ffb24661ffd9807c795c1b973);\n",
       "        \n",
       "    \n",
       "        var popup_bf17f571d1f3f3e70db982ad7a9471a6 = L.popup({\n",
       "  &quot;maxWidth&quot;: &quot;100%&quot;,\n",
       "});\n",
       "\n",
       "        \n",
       "            \n",
       "                var html_237dc73a311fadcc6158753d63e1f68d = $(`&lt;div id=&quot;html_237dc73a311fadcc6158753d63e1f68d&quot; style=&quot;width: 100.0%; height: 100.0%;&quot;&gt;Lago Belgrano&lt;/div&gt;`)[0];\n",
       "                popup_bf17f571d1f3f3e70db982ad7a9471a6.setContent(html_237dc73a311fadcc6158753d63e1f68d);\n",
       "            \n",
       "        \n",
       "\n",
       "        circle_marker_e18a517de6f9de81495eae93a4f7c38d.bindPopup(popup_bf17f571d1f3f3e70db982ad7a9471a6)\n",
       "        ;\n",
       "\n",
       "        \n",
       "    \n",
       "    \n",
       "            var circle_marker_2dae2d9c692a11c5d7eb85299807af3e = L.circleMarker(\n",
       "                [-42.82833333333333, -71.67527777777778],\n",
       "                {&quot;bubblingMouseEvents&quot;: true, &quot;color&quot;: &quot;gray&quot;, &quot;dashArray&quot;: null, &quot;dashOffset&quot;: null, &quot;fill&quot;: true, &quot;fillColor&quot;: &quot;gray&quot;, &quot;fillOpacity&quot;: 0.2, &quot;fillRule&quot;: &quot;evenodd&quot;, &quot;lineCap&quot;: &quot;round&quot;, &quot;lineJoin&quot;: &quot;round&quot;, &quot;opacity&quot;: 1.0, &quot;radius&quot;: 6, &quot;stroke&quot;: true, &quot;weight&quot;: 3}\n",
       "            ).addTo(map_445dda8ffb24661ffd9807c795c1b973);\n",
       "        \n",
       "    \n",
       "        var popup_680ef722a96eb5f57e9b1d280f3a288a = L.popup({\n",
       "  &quot;maxWidth&quot;: &quot;100%&quot;,\n",
       "});\n",
       "\n",
       "        \n",
       "            \n",
       "                var html_2f30a1bedc4c26513cb5e14efaf6557f = $(`&lt;div id=&quot;html_2f30a1bedc4c26513cb5e14efaf6557f&quot; style=&quot;width: 100.0%; height: 100.0%;&quot;&gt;Lago Futalaufquen&lt;/div&gt;`)[0];\n",
       "                popup_680ef722a96eb5f57e9b1d280f3a288a.setContent(html_2f30a1bedc4c26513cb5e14efaf6557f);\n",
       "            \n",
       "        \n",
       "\n",
       "        circle_marker_2dae2d9c692a11c5d7eb85299807af3e.bindPopup(popup_680ef722a96eb5f57e9b1d280f3a288a)\n",
       "        ;\n",
       "\n",
       "        \n",
       "    \n",
       "    \n",
       "            var circle_marker_ec3a38b69b8c6b5bcb8b73dd8172cf3b = L.circleMarker(\n",
       "                [-47.49444444444445, -71.83194444444445],\n",
       "                {&quot;bubblingMouseEvents&quot;: true, &quot;color&quot;: &quot;gray&quot;, &quot;dashArray&quot;: null, &quot;dashOffset&quot;: null, &quot;fill&quot;: true, &quot;fillColor&quot;: &quot;gray&quot;, &quot;fillOpacity&quot;: 0.2, &quot;fillRule&quot;: &quot;evenodd&quot;, &quot;lineCap&quot;: &quot;round&quot;, &quot;lineJoin&quot;: &quot;round&quot;, &quot;opacity&quot;: 1.0, &quot;radius&quot;: 6, &quot;stroke&quot;: true, &quot;weight&quot;: 3}\n",
       "            ).addTo(map_445dda8ffb24661ffd9807c795c1b973);\n",
       "        \n",
       "    \n",
       "        var popup_caa437ed7a15605c86aae5bab54c5f49 = L.popup({\n",
       "  &quot;maxWidth&quot;: &quot;100%&quot;,\n",
       "});\n",
       "\n",
       "        \n",
       "            \n",
       "                var html_4f3d8c2db457297accc3075eb0993ec1 = $(`&lt;div id=&quot;html_4f3d8c2db457297accc3075eb0993ec1&quot; style=&quot;width: 100.0%; height: 100.0%;&quot;&gt;Lago Posadas&lt;/div&gt;`)[0];\n",
       "                popup_caa437ed7a15605c86aae5bab54c5f49.setContent(html_4f3d8c2db457297accc3075eb0993ec1);\n",
       "            \n",
       "        \n",
       "\n",
       "        circle_marker_ec3a38b69b8c6b5bcb8b73dd8172cf3b.bindPopup(popup_caa437ed7a15605c86aae5bab54c5f49)\n",
       "        ;\n",
       "\n",
       "        \n",
       "    \n",
       "    \n",
       "            var circle_marker_18337c7c08349b824806a0f20997c8d7 = L.circleMarker(\n",
       "                [-40.67583333333333, -71.71111111111111],\n",
       "                {&quot;bubblingMouseEvents&quot;: true, &quot;color&quot;: &quot;gray&quot;, &quot;dashArray&quot;: null, &quot;dashOffset&quot;: null, &quot;fill&quot;: true, &quot;fillColor&quot;: &quot;gray&quot;, &quot;fillOpacity&quot;: 0.2, &quot;fillRule&quot;: &quot;evenodd&quot;, &quot;lineCap&quot;: &quot;round&quot;, &quot;lineJoin&quot;: &quot;round&quot;, &quot;opacity&quot;: 1.0, &quot;radius&quot;: 6, &quot;stroke&quot;: true, &quot;weight&quot;: 3}\n",
       "            ).addTo(map_445dda8ffb24661ffd9807c795c1b973);\n",
       "        \n",
       "    \n",
       "        var popup_4d24e8760c7684a0059b2d78f4667de9 = L.popup({\n",
       "  &quot;maxWidth&quot;: &quot;100%&quot;,\n",
       "});\n",
       "\n",
       "        \n",
       "            \n",
       "                var html_3cd492e6d6004ed225646b699aa421f2 = $(`&lt;div id=&quot;html_3cd492e6d6004ed225646b699aa421f2&quot; style=&quot;width: 100.0%; height: 100.0%;&quot;&gt;Lago Espejo&lt;/div&gt;`)[0];\n",
       "                popup_4d24e8760c7684a0059b2d78f4667de9.setContent(html_3cd492e6d6004ed225646b699aa421f2);\n",
       "            \n",
       "        \n",
       "\n",
       "        circle_marker_18337c7c08349b824806a0f20997c8d7.bindPopup(popup_4d24e8760c7684a0059b2d78f4667de9)\n",
       "        ;\n",
       "\n",
       "        \n",
       "    \n",
       "    \n",
       "            var circle_marker_f75c04549f7e6f0971c2701081b5329c = L.circleMarker(\n",
       "                [-41.34611111111112, -71.54777777777778],\n",
       "                {&quot;bubblingMouseEvents&quot;: true, &quot;color&quot;: &quot;gray&quot;, &quot;dashArray&quot;: null, &quot;dashOffset&quot;: null, &quot;fill&quot;: true, &quot;fillColor&quot;: &quot;gray&quot;, &quot;fillOpacity&quot;: 0.2, &quot;fillRule&quot;: &quot;evenodd&quot;, &quot;lineCap&quot;: &quot;round&quot;, &quot;lineJoin&quot;: &quot;round&quot;, &quot;opacity&quot;: 1.0, &quot;radius&quot;: 6, &quot;stroke&quot;: true, &quot;weight&quot;: 3}\n",
       "            ).addTo(map_445dda8ffb24661ffd9807c795c1b973);\n",
       "        \n",
       "    \n",
       "        var popup_e6819f02d3ad8d3172530b74de6a84a0 = L.popup({\n",
       "  &quot;maxWidth&quot;: &quot;100%&quot;,\n",
       "});\n",
       "\n",
       "        \n",
       "            \n",
       "                var html_7ffb8aebb74330696af8455e4785a2f5 = $(`&lt;div id=&quot;html_7ffb8aebb74330696af8455e4785a2f5&quot; style=&quot;width: 100.0%; height: 100.0%;&quot;&gt;Lago Mascardi&lt;/div&gt;`)[0];\n",
       "                popup_e6819f02d3ad8d3172530b74de6a84a0.setContent(html_7ffb8aebb74330696af8455e4785a2f5);\n",
       "            \n",
       "        \n",
       "\n",
       "        circle_marker_f75c04549f7e6f0971c2701081b5329c.bindPopup(popup_e6819f02d3ad8d3172530b74de6a84a0)\n",
       "        ;\n",
       "\n",
       "        \n",
       "    \n",
       "    \n",
       "            var circle_marker_d03bd13bb279f421f4065b80119d95fb = L.circleMarker(\n",
       "                [-54.395, -67.59333333333333],\n",
       "                {&quot;bubblingMouseEvents&quot;: true, &quot;color&quot;: &quot;gray&quot;, &quot;dashArray&quot;: null, &quot;dashOffset&quot;: null, &quot;fill&quot;: true, &quot;fillColor&quot;: &quot;gray&quot;, &quot;fillOpacity&quot;: 0.2, &quot;fillRule&quot;: &quot;evenodd&quot;, &quot;lineCap&quot;: &quot;round&quot;, &quot;lineJoin&quot;: &quot;round&quot;, &quot;opacity&quot;: 1.0, &quot;radius&quot;: 6, &quot;stroke&quot;: true, &quot;weight&quot;: 3}\n",
       "            ).addTo(map_445dda8ffb24661ffd9807c795c1b973);\n",
       "        \n",
       "    \n",
       "        var popup_61c6093a71f93cf817491a3cb62a337f = L.popup({\n",
       "  &quot;maxWidth&quot;: &quot;100%&quot;,\n",
       "});\n",
       "\n",
       "        \n",
       "            \n",
       "                var html_7579b963a7ad4f53e98599a60d915658 = $(`&lt;div id=&quot;html_7579b963a7ad4f53e98599a60d915658&quot; style=&quot;width: 100.0%; height: 100.0%;&quot;&gt;Lago Chepelmut&lt;/div&gt;`)[0];\n",
       "                popup_61c6093a71f93cf817491a3cb62a337f.setContent(html_7579b963a7ad4f53e98599a60d915658);\n",
       "            \n",
       "        \n",
       "\n",
       "        circle_marker_d03bd13bb279f421f4065b80119d95fb.bindPopup(popup_61c6093a71f93cf817491a3cb62a337f)\n",
       "        ;\n",
       "\n",
       "        \n",
       "    \n",
       "    \n",
       "            var circle_marker_d531c8a773fb28875415507de56633f7 = L.circleMarker(\n",
       "                [-47.5, -71.61333333333333],\n",
       "                {&quot;bubblingMouseEvents&quot;: true, &quot;color&quot;: &quot;gray&quot;, &quot;dashArray&quot;: null, &quot;dashOffset&quot;: null, &quot;fill&quot;: true, &quot;fillColor&quot;: &quot;gray&quot;, &quot;fillOpacity&quot;: 0.2, &quot;fillRule&quot;: &quot;evenodd&quot;, &quot;lineCap&quot;: &quot;round&quot;, &quot;lineJoin&quot;: &quot;round&quot;, &quot;opacity&quot;: 1.0, &quot;radius&quot;: 6, &quot;stroke&quot;: true, &quot;weight&quot;: 3}\n",
       "            ).addTo(map_445dda8ffb24661ffd9807c795c1b973);\n",
       "        \n",
       "    \n",
       "        var popup_edf33e5b57d2c84c6d67b5a57da39f9d = L.popup({\n",
       "  &quot;maxWidth&quot;: &quot;100%&quot;,\n",
       "});\n",
       "\n",
       "        \n",
       "            \n",
       "                var html_e89b94162fbce0f110b1ccbc5c130bb5 = $(`&lt;div id=&quot;html_e89b94162fbce0f110b1ccbc5c130bb5&quot; style=&quot;width: 100.0%; height: 100.0%;&quot;&gt;Lago Salitroso o Sucio&lt;/div&gt;`)[0];\n",
       "                popup_edf33e5b57d2c84c6d67b5a57da39f9d.setContent(html_e89b94162fbce0f110b1ccbc5c130bb5);\n",
       "            \n",
       "        \n",
       "\n",
       "        circle_marker_d531c8a773fb28875415507de56633f7.bindPopup(popup_edf33e5b57d2c84c6d67b5a57da39f9d)\n",
       "        ;\n",
       "\n",
       "        \n",
       "    \n",
       "    \n",
       "            var circle_marker_51c23689f2ebe47e9bfe840f84c1e10e = L.circleMarker(\n",
       "                [-40.03611111111111, -71.5363888888889],\n",
       "                {&quot;bubblingMouseEvents&quot;: true, &quot;color&quot;: &quot;gray&quot;, &quot;dashArray&quot;: null, &quot;dashOffset&quot;: null, &quot;fill&quot;: true, &quot;fillColor&quot;: &quot;gray&quot;, &quot;fillOpacity&quot;: 0.2, &quot;fillRule&quot;: &quot;evenodd&quot;, &quot;lineCap&quot;: &quot;round&quot;, &quot;lineJoin&quot;: &quot;round&quot;, &quot;opacity&quot;: 1.0, &quot;radius&quot;: 6, &quot;stroke&quot;: true, &quot;weight&quot;: 3}\n",
       "            ).addTo(map_445dda8ffb24661ffd9807c795c1b973);\n",
       "        \n",
       "    \n",
       "        var popup_baa4a5d8d9dd8acd820700fc2942349c = L.popup({\n",
       "  &quot;maxWidth&quot;: &quot;100%&quot;,\n",
       "});\n",
       "\n",
       "        \n",
       "            \n",
       "                var html_712db9b2d0748b56631a50f30a914952 = $(`&lt;div id=&quot;html_712db9b2d0748b56631a50f30a914952&quot; style=&quot;width: 100.0%; height: 100.0%;&quot;&gt;Lago Lolog&lt;/div&gt;`)[0];\n",
       "                popup_baa4a5d8d9dd8acd820700fc2942349c.setContent(html_712db9b2d0748b56631a50f30a914952);\n",
       "            \n",
       "        \n",
       "\n",
       "        circle_marker_51c23689f2ebe47e9bfe840f84c1e10e.bindPopup(popup_baa4a5d8d9dd8acd820700fc2942349c)\n",
       "        ;\n",
       "\n",
       "        \n",
       "    \n",
       "    \n",
       "            var circle_marker_5005ee3ed9b22576b2d6ce92804917be = L.circleMarker(\n",
       "                [-49.22833333333333, -72.01722222222222],\n",
       "                {&quot;bubblingMouseEvents&quot;: true, &quot;color&quot;: &quot;gray&quot;, &quot;dashArray&quot;: null, &quot;dashOffset&quot;: null, &quot;fill&quot;: true, &quot;fillColor&quot;: &quot;gray&quot;, &quot;fillOpacity&quot;: 0.2, &quot;fillRule&quot;: &quot;evenodd&quot;, &quot;lineCap&quot;: &quot;round&quot;, &quot;lineJoin&quot;: &quot;round&quot;, &quot;opacity&quot;: 1.0, &quot;radius&quot;: 6, &quot;stroke&quot;: true, &quot;weight&quot;: 3}\n",
       "            ).addTo(map_445dda8ffb24661ffd9807c795c1b973);\n",
       "        \n",
       "    \n",
       "        var popup_f327408c7f6be8425a04656dd59ff4bd = L.popup({\n",
       "  &quot;maxWidth&quot;: &quot;100%&quot;,\n",
       "});\n",
       "\n",
       "        \n",
       "            \n",
       "                var html_08a08ae3d5a9cd7c4ee2d9e4ad694204 = $(`&lt;div id=&quot;html_08a08ae3d5a9cd7c4ee2d9e4ad694204&quot; style=&quot;width: 100.0%; height: 100.0%;&quot;&gt;Lago Tar&lt;/div&gt;`)[0];\n",
       "                popup_f327408c7f6be8425a04656dd59ff4bd.setContent(html_08a08ae3d5a9cd7c4ee2d9e4ad694204);\n",
       "            \n",
       "        \n",
       "\n",
       "        circle_marker_5005ee3ed9b22576b2d6ce92804917be.bindPopup(popup_f327408c7f6be8425a04656dd59ff4bd)\n",
       "        ;\n",
       "\n",
       "        \n",
       "    \n",
       "    \n",
       "            var circle_marker_f522dd35e17c5269b90b9a7d9f005b2d = L.circleMarker(\n",
       "                [-39.52583333333333, -71.44777777777779],\n",
       "                {&quot;bubblingMouseEvents&quot;: true, &quot;color&quot;: &quot;gray&quot;, &quot;dashArray&quot;: null, &quot;dashOffset&quot;: null, &quot;fill&quot;: true, &quot;fillColor&quot;: &quot;gray&quot;, &quot;fillOpacity&quot;: 0.2, &quot;fillRule&quot;: &quot;evenodd&quot;, &quot;lineCap&quot;: &quot;round&quot;, &quot;lineJoin&quot;: &quot;round&quot;, &quot;opacity&quot;: 1.0, &quot;radius&quot;: 6, &quot;stroke&quot;: true, &quot;weight&quot;: 3}\n",
       "            ).addTo(map_445dda8ffb24661ffd9807c795c1b973);\n",
       "        \n",
       "    \n",
       "        var popup_17b19e50389cb44f259a84779abd7bc3 = L.popup({\n",
       "  &quot;maxWidth&quot;: &quot;100%&quot;,\n",
       "});\n",
       "\n",
       "        \n",
       "            \n",
       "                var html_8b5b6e8563c5fd960f50224507163a46 = $(`&lt;div id=&quot;html_8b5b6e8563c5fd960f50224507163a46&quot; style=&quot;width: 100.0%; height: 100.0%;&quot;&gt;Lago Tromen&lt;/div&gt;`)[0];\n",
       "                popup_17b19e50389cb44f259a84779abd7bc3.setContent(html_8b5b6e8563c5fd960f50224507163a46);\n",
       "            \n",
       "        \n",
       "\n",
       "        circle_marker_f522dd35e17c5269b90b9a7d9f005b2d.bindPopup(popup_17b19e50389cb44f259a84779abd7bc3)\n",
       "        ;\n",
       "\n",
       "        \n",
       "    \n",
       "    \n",
       "            var circle_marker_7569f14ce9da2a7327ca226b7f93b537 = L.circleMarker(\n",
       "                [-45.88777777777778, -71.22361111111111],\n",
       "                {&quot;bubblingMouseEvents&quot;: true, &quot;color&quot;: &quot;gray&quot;, &quot;dashArray&quot;: null, &quot;dashOffset&quot;: null, &quot;fill&quot;: true, &quot;fillColor&quot;: &quot;gray&quot;, &quot;fillOpacity&quot;: 0.2, &quot;fillRule&quot;: &quot;evenodd&quot;, &quot;lineCap&quot;: &quot;round&quot;, &quot;lineJoin&quot;: &quot;round&quot;, &quot;opacity&quot;: 1.0, &quot;radius&quot;: 6, &quot;stroke&quot;: true, &quot;weight&quot;: 3}\n",
       "            ).addTo(map_445dda8ffb24661ffd9807c795c1b973);\n",
       "        \n",
       "    \n",
       "        var popup_4b9bd875994847fe320dbbad0a7f7629 = L.popup({\n",
       "  &quot;maxWidth&quot;: &quot;100%&quot;,\n",
       "});\n",
       "\n",
       "        \n",
       "            \n",
       "                var html_4b646b2b9f8f8c254f6875e4e4815bde = $(`&lt;div id=&quot;html_4b646b2b9f8f8c254f6875e4e4815bde&quot; style=&quot;width: 100.0%; height: 100.0%;&quot;&gt;Lago Blanco&lt;/div&gt;`)[0];\n",
       "                popup_4b9bd875994847fe320dbbad0a7f7629.setContent(html_4b646b2b9f8f8c254f6875e4e4815bde);\n",
       "            \n",
       "        \n",
       "\n",
       "        circle_marker_7569f14ce9da2a7327ca226b7f93b537.bindPopup(popup_4b9bd875994847fe320dbbad0a7f7629)\n",
       "        ;\n",
       "\n",
       "        \n",
       "    \n",
       "    \n",
       "            var circle_marker_40427de0d731aec89bba9473a52cc149 = L.circleMarker(\n",
       "                [-39.41138888888889, -71.31444444444445],\n",
       "                {&quot;bubblingMouseEvents&quot;: true, &quot;color&quot;: &quot;gray&quot;, &quot;dashArray&quot;: null, &quot;dashOffset&quot;: null, &quot;fill&quot;: true, &quot;fillColor&quot;: &quot;gray&quot;, &quot;fillOpacity&quot;: 0.2, &quot;fillRule&quot;: &quot;evenodd&quot;, &quot;lineCap&quot;: &quot;round&quot;, &quot;lineJoin&quot;: &quot;round&quot;, &quot;opacity&quot;: 1.0, &quot;radius&quot;: 6, &quot;stroke&quot;: true, &quot;weight&quot;: 3}\n",
       "            ).addTo(map_445dda8ffb24661ffd9807c795c1b973);\n",
       "        \n",
       "    \n",
       "        var popup_9e10f91cee33223ea174add89b1641e1 = L.popup({\n",
       "  &quot;maxWidth&quot;: &quot;100%&quot;,\n",
       "});\n",
       "\n",
       "        \n",
       "            \n",
       "                var html_709b99cad041c32ec008ad8899f96661 = $(`&lt;div id=&quot;html_709b99cad041c32ec008ad8899f96661&quot; style=&quot;width: 100.0%; height: 100.0%;&quot;&gt;Lago Quillén&lt;/div&gt;`)[0];\n",
       "                popup_9e10f91cee33223ea174add89b1641e1.setContent(html_709b99cad041c32ec008ad8899f96661);\n",
       "            \n",
       "        \n",
       "\n",
       "        circle_marker_40427de0d731aec89bba9473a52cc149.bindPopup(popup_9e10f91cee33223ea174add89b1641e1)\n",
       "        ;\n",
       "\n",
       "        \n",
       "    \n",
       "    \n",
       "            var circle_marker_68d6b20a2fc4bb0b789ca61bdc2b962b = L.circleMarker(\n",
       "                [-47.8625, -71.47027777777778],\n",
       "                {&quot;bubblingMouseEvents&quot;: true, &quot;color&quot;: &quot;gray&quot;, &quot;dashArray&quot;: null, &quot;dashOffset&quot;: null, &quot;fill&quot;: true, &quot;fillColor&quot;: &quot;gray&quot;, &quot;fillOpacity&quot;: 0.2, &quot;fillRule&quot;: &quot;evenodd&quot;, &quot;lineCap&quot;: &quot;round&quot;, &quot;lineJoin&quot;: &quot;round&quot;, &quot;opacity&quot;: 1.0, &quot;radius&quot;: 6, &quot;stroke&quot;: true, &quot;weight&quot;: 3}\n",
       "            ).addTo(map_445dda8ffb24661ffd9807c795c1b973);\n",
       "        \n",
       "    \n",
       "        var popup_79592a0bd140a28a190327278fb204e5 = L.popup({\n",
       "  &quot;maxWidth&quot;: &quot;100%&quot;,\n",
       "});\n",
       "\n",
       "        \n",
       "            \n",
       "                var html_409203c31528433c74d64d8785bdae03 = $(`&lt;div id=&quot;html_409203c31528433c74d64d8785bdae03&quot; style=&quot;width: 100.0%; height: 100.0%;&quot;&gt;Lago Asador o Guitarra&lt;/div&gt;`)[0];\n",
       "                popup_79592a0bd140a28a190327278fb204e5.setContent(html_409203c31528433c74d64d8785bdae03);\n",
       "            \n",
       "        \n",
       "\n",
       "        circle_marker_68d6b20a2fc4bb0b789ca61bdc2b962b.bindPopup(popup_79592a0bd140a28a190327278fb204e5)\n",
       "        ;\n",
       "\n",
       "        \n",
       "    \n",
       "    \n",
       "            var circle_marker_eaa0c2f0f273eefc2e1611831357f7b1 = L.circleMarker(\n",
       "                [-42.61083333333333, -71.66638888888889],\n",
       "                {&quot;bubblingMouseEvents&quot;: true, &quot;color&quot;: &quot;gray&quot;, &quot;dashArray&quot;: null, &quot;dashOffset&quot;: null, &quot;fill&quot;: true, &quot;fillColor&quot;: &quot;gray&quot;, &quot;fillOpacity&quot;: 0.2, &quot;fillRule&quot;: &quot;evenodd&quot;, &quot;lineCap&quot;: &quot;round&quot;, &quot;lineJoin&quot;: &quot;round&quot;, &quot;opacity&quot;: 1.0, &quot;radius&quot;: 6, &quot;stroke&quot;: true, &quot;weight&quot;: 3}\n",
       "            ).addTo(map_445dda8ffb24661ffd9807c795c1b973);\n",
       "        \n",
       "    \n",
       "        var popup_390daa17d5563b586aed753cea553b2b = L.popup({\n",
       "  &quot;maxWidth&quot;: &quot;100%&quot;,\n",
       "});\n",
       "\n",
       "        \n",
       "            \n",
       "                var html_ea97f13ecee33a35ef4187459e36b68a = $(`&lt;div id=&quot;html_ea97f13ecee33a35ef4187459e36b68a&quot; style=&quot;width: 100.0%; height: 100.0%;&quot;&gt;Lago Rivadavia&lt;/div&gt;`)[0];\n",
       "                popup_390daa17d5563b586aed753cea553b2b.setContent(html_ea97f13ecee33a35ef4187459e36b68a);\n",
       "            \n",
       "        \n",
       "\n",
       "        circle_marker_eaa0c2f0f273eefc2e1611831357f7b1.bindPopup(popup_390daa17d5563b586aed753cea553b2b)\n",
       "        ;\n",
       "\n",
       "        \n",
       "    \n",
       "    \n",
       "            var circle_marker_be5cfb25f58395d30d70fe486beecc7a = L.circleMarker(\n",
       "                [-38.90444444444445, -71.27388888888889],\n",
       "                {&quot;bubblingMouseEvents&quot;: true, &quot;color&quot;: &quot;gray&quot;, &quot;dashArray&quot;: null, &quot;dashOffset&quot;: null, &quot;fill&quot;: true, &quot;fillColor&quot;: &quot;gray&quot;, &quot;fillOpacity&quot;: 0.2, &quot;fillRule&quot;: &quot;evenodd&quot;, &quot;lineCap&quot;: &quot;round&quot;, &quot;lineJoin&quot;: &quot;round&quot;, &quot;opacity&quot;: 1.0, &quot;radius&quot;: 6, &quot;stroke&quot;: true, &quot;weight&quot;: 3}\n",
       "            ).addTo(map_445dda8ffb24661ffd9807c795c1b973);\n",
       "        \n",
       "    \n",
       "        var popup_3c1b66c8480d6f98b23786219d547e0e = L.popup({\n",
       "  &quot;maxWidth&quot;: &quot;100%&quot;,\n",
       "});\n",
       "\n",
       "        \n",
       "            \n",
       "                var html_f2b1ce9eec2d396b3b88cc26b28486ef = $(`&lt;div id=&quot;html_f2b1ce9eec2d396b3b88cc26b28486ef&quot; style=&quot;width: 100.0%; height: 100.0%;&quot;&gt;Lago Moquehue&lt;/div&gt;`)[0];\n",
       "                popup_3c1b66c8480d6f98b23786219d547e0e.setContent(html_f2b1ce9eec2d396b3b88cc26b28486ef);\n",
       "            \n",
       "        \n",
       "\n",
       "        circle_marker_be5cfb25f58395d30d70fe486beecc7a.bindPopup(popup_3c1b66c8480d6f98b23786219d547e0e)\n",
       "        ;\n",
       "\n",
       "        \n",
       "    \n",
       "    \n",
       "            var circle_marker_9ee278eefd816b50df8a078610a33b65 = L.circleMarker(\n",
       "                [-40.70222222222223, -71.65972222222223],\n",
       "                {&quot;bubblingMouseEvents&quot;: true, &quot;color&quot;: &quot;gray&quot;, &quot;dashArray&quot;: null, &quot;dashOffset&quot;: null, &quot;fill&quot;: true, &quot;fillColor&quot;: &quot;gray&quot;, &quot;fillOpacity&quot;: 0.2, &quot;fillRule&quot;: &quot;evenodd&quot;, &quot;lineCap&quot;: &quot;round&quot;, &quot;lineJoin&quot;: &quot;round&quot;, &quot;opacity&quot;: 1.0, &quot;radius&quot;: 6, &quot;stroke&quot;: true, &quot;weight&quot;: 3}\n",
       "            ).addTo(map_445dda8ffb24661ffd9807c795c1b973);\n",
       "        \n",
       "    \n",
       "        var popup_700f7e32e7263118e4172de7fea103f7 = L.popup({\n",
       "  &quot;maxWidth&quot;: &quot;100%&quot;,\n",
       "});\n",
       "\n",
       "        \n",
       "            \n",
       "                var html_ca87d6fc88990eaf187388c19884cfbd = $(`&lt;div id=&quot;html_ca87d6fc88990eaf187388c19884cfbd&quot; style=&quot;width: 100.0%; height: 100.0%;&quot;&gt;Lago Correntoso&lt;/div&gt;`)[0];\n",
       "                popup_700f7e32e7263118e4172de7fea103f7.setContent(html_ca87d6fc88990eaf187388c19884cfbd);\n",
       "            \n",
       "        \n",
       "\n",
       "        circle_marker_9ee278eefd816b50df8a078610a33b65.bindPopup(popup_700f7e32e7263118e4172de7fea103f7)\n",
       "        ;\n",
       "\n",
       "        \n",
       "    \n",
       "    \n",
       "            var circle_marker_2bdb9b8a600f0bdb66573ccccda98406 = L.circleMarker(\n",
       "                [-45.59444444444445, -68.54777777777778],\n",
       "                {&quot;bubblingMouseEvents&quot;: true, &quot;color&quot;: &quot;gray&quot;, &quot;dashArray&quot;: null, &quot;dashOffset&quot;: null, &quot;fill&quot;: true, &quot;fillColor&quot;: &quot;gray&quot;, &quot;fillOpacity&quot;: 0.2, &quot;fillRule&quot;: &quot;evenodd&quot;, &quot;lineCap&quot;: &quot;round&quot;, &quot;lineJoin&quot;: &quot;round&quot;, &quot;opacity&quot;: 1.0, &quot;radius&quot;: 6, &quot;stroke&quot;: true, &quot;weight&quot;: 3}\n",
       "            ).addTo(map_445dda8ffb24661ffd9807c795c1b973);\n",
       "        \n",
       "    \n",
       "        var popup_10de05027a226738a9abc60289f36e3f = L.popup({\n",
       "  &quot;maxWidth&quot;: &quot;100%&quot;,\n",
       "});\n",
       "\n",
       "        \n",
       "            \n",
       "                var html_c93db98f696aa880ead9a76f00e19c42 = $(`&lt;div id=&quot;html_c93db98f696aa880ead9a76f00e19c42&quot; style=&quot;width: 100.0%; height: 100.0%;&quot;&gt;Lago Río Chico&lt;/div&gt;`)[0];\n",
       "                popup_10de05027a226738a9abc60289f36e3f.setContent(html_c93db98f696aa880ead9a76f00e19c42);\n",
       "            \n",
       "        \n",
       "\n",
       "        circle_marker_2bdb9b8a600f0bdb66573ccccda98406.bindPopup(popup_10de05027a226738a9abc60289f36e3f)\n",
       "        ;\n",
       "\n",
       "        \n",
       "    \n",
       "    \n",
       "            var circle_marker_d75d12e51b781d8d44f95d6dffb26089 = L.circleMarker(\n",
       "                [-48.49916666666667, -71.58472222222221],\n",
       "                {&quot;bubblingMouseEvents&quot;: true, &quot;color&quot;: &quot;gray&quot;, &quot;dashArray&quot;: null, &quot;dashOffset&quot;: null, &quot;fill&quot;: true, &quot;fillColor&quot;: &quot;gray&quot;, &quot;fillOpacity&quot;: 0.2, &quot;fillRule&quot;: &quot;evenodd&quot;, &quot;lineCap&quot;: &quot;round&quot;, &quot;lineJoin&quot;: &quot;round&quot;, &quot;opacity&quot;: 1.0, &quot;radius&quot;: 6, &quot;stroke&quot;: true, &quot;weight&quot;: 3}\n",
       "            ).addTo(map_445dda8ffb24661ffd9807c795c1b973);\n",
       "        \n",
       "    \n",
       "        var popup_ba24b10c22df4cdaf33602a9ff840260 = L.popup({\n",
       "  &quot;maxWidth&quot;: &quot;100%&quot;,\n",
       "});\n",
       "\n",
       "        \n",
       "            \n",
       "                var html_cabb9453d46b7fd786cb695a07c9d486 = $(`&lt;div id=&quot;html_cabb9453d46b7fd786cb695a07c9d486&quot; style=&quot;width: 100.0%; height: 100.0%;&quot;&gt;Lago Quiroga Chico&lt;/div&gt;`)[0];\n",
       "                popup_ba24b10c22df4cdaf33602a9ff840260.setContent(html_cabb9453d46b7fd786cb695a07c9d486);\n",
       "            \n",
       "        \n",
       "\n",
       "        circle_marker_d75d12e51b781d8d44f95d6dffb26089.bindPopup(popup_ba24b10c22df4cdaf33602a9ff840260)\n",
       "        ;\n",
       "\n",
       "        \n",
       "    \n",
       "    \n",
       "            var circle_marker_1576fd918373f9e874733ecffca89e28 = L.circleMarker(\n",
       "                [-42.1875, -71.50666666666666],\n",
       "                {&quot;bubblingMouseEvents&quot;: true, &quot;color&quot;: &quot;gray&quot;, &quot;dashArray&quot;: null, &quot;dashOffset&quot;: null, &quot;fill&quot;: true, &quot;fillColor&quot;: &quot;gray&quot;, &quot;fillOpacity&quot;: 0.2, &quot;fillRule&quot;: &quot;evenodd&quot;, &quot;lineCap&quot;: &quot;round&quot;, &quot;lineJoin&quot;: &quot;round&quot;, &quot;opacity&quot;: 1.0, &quot;radius&quot;: 6, &quot;stroke&quot;: true, &quot;weight&quot;: 3}\n",
       "            ).addTo(map_445dda8ffb24661ffd9807c795c1b973);\n",
       "        \n",
       "    \n",
       "        var popup_20d26bf7d03f48892a9bea614033815d = L.popup({\n",
       "  &quot;maxWidth&quot;: &quot;100%&quot;,\n",
       "});\n",
       "\n",
       "        \n",
       "            \n",
       "                var html_d0f8f0d84b4e7ed8a64b0fdb441b0683 = $(`&lt;div id=&quot;html_d0f8f0d84b4e7ed8a64b0fdb441b0683&quot; style=&quot;width: 100.0%; height: 100.0%;&quot;&gt;Lago Epuyén&lt;/div&gt;`)[0];\n",
       "                popup_20d26bf7d03f48892a9bea614033815d.setContent(html_d0f8f0d84b4e7ed8a64b0fdb441b0683);\n",
       "            \n",
       "        \n",
       "\n",
       "        circle_marker_1576fd918373f9e874733ecffca89e28.bindPopup(popup_20d26bf7d03f48892a9bea614033815d)\n",
       "        ;\n",
       "\n",
       "        \n",
       "    \n",
       "    \n",
       "            var circle_marker_2165f4e4d81617514ff8bc8e20d15114 = L.circleMarker(\n",
       "                [-41.20777777777778, -71.42027777777778],\n",
       "                {&quot;bubblingMouseEvents&quot;: true, &quot;color&quot;: &quot;gray&quot;, &quot;dashArray&quot;: null, &quot;dashOffset&quot;: null, &quot;fill&quot;: true, &quot;fillColor&quot;: &quot;gray&quot;, &quot;fillOpacity&quot;: 0.2, &quot;fillRule&quot;: &quot;evenodd&quot;, &quot;lineCap&quot;: &quot;round&quot;, &quot;lineJoin&quot;: &quot;round&quot;, &quot;opacity&quot;: 1.0, &quot;radius&quot;: 6, &quot;stroke&quot;: true, &quot;weight&quot;: 3}\n",
       "            ).addTo(map_445dda8ffb24661ffd9807c795c1b973);\n",
       "        \n",
       "    \n",
       "        var popup_d0d269e1e91f6b99e4125263fe29fae6 = L.popup({\n",
       "  &quot;maxWidth&quot;: &quot;100%&quot;,\n",
       "});\n",
       "\n",
       "        \n",
       "            \n",
       "                var html_31e07fe2d68cee7273794a98fc4c9ced = $(`&lt;div id=&quot;html_31e07fe2d68cee7273794a98fc4c9ced&quot; style=&quot;width: 100.0%; height: 100.0%;&quot;&gt;Lago Gutiérrez&lt;/div&gt;`)[0];\n",
       "                popup_d0d269e1e91f6b99e4125263fe29fae6.setContent(html_31e07fe2d68cee7273794a98fc4c9ced);\n",
       "            \n",
       "        \n",
       "\n",
       "        circle_marker_2165f4e4d81617514ff8bc8e20d15114.bindPopup(popup_d0d269e1e91f6b99e4125263fe29fae6)\n",
       "        ;\n",
       "\n",
       "        \n",
       "    \n",
       "    \n",
       "            var circle_marker_8c55eafe4a0ec225918ee44055879d83 = L.circleMarker(\n",
       "                [-42.45861111111111, -71.66916666666667],\n",
       "                {&quot;bubblingMouseEvents&quot;: true, &quot;color&quot;: &quot;gray&quot;, &quot;dashArray&quot;: null, &quot;dashOffset&quot;: null, &quot;fill&quot;: true, &quot;fillColor&quot;: &quot;gray&quot;, &quot;fillOpacity&quot;: 0.2, &quot;fillRule&quot;: &quot;evenodd&quot;, &quot;lineCap&quot;: &quot;round&quot;, &quot;lineJoin&quot;: &quot;round&quot;, &quot;opacity&quot;: 1.0, &quot;radius&quot;: 6, &quot;stroke&quot;: true, &quot;weight&quot;: 3}\n",
       "            ).addTo(map_445dda8ffb24661ffd9807c795c1b973);\n",
       "        \n",
       "    \n",
       "        var popup_3f160c3c40c78c61cbd5253672f5c3a4 = L.popup({\n",
       "  &quot;maxWidth&quot;: &quot;100%&quot;,\n",
       "});\n",
       "\n",
       "        \n",
       "            \n",
       "                var html_e6df9ea994ec8be4884523dde4c73580 = $(`&lt;div id=&quot;html_e6df9ea994ec8be4884523dde4c73580&quot; style=&quot;width: 100.0%; height: 100.0%;&quot;&gt;Lago Cholila&lt;/div&gt;`)[0];\n",
       "                popup_3f160c3c40c78c61cbd5253672f5c3a4.setContent(html_e6df9ea994ec8be4884523dde4c73580);\n",
       "            \n",
       "        \n",
       "\n",
       "        circle_marker_8c55eafe4a0ec225918ee44055879d83.bindPopup(popup_3f160c3c40c78c61cbd5253672f5c3a4)\n",
       "        ;\n",
       "\n",
       "        \n",
       "    \n",
       "    \n",
       "            var circle_marker_ed3dbee176d884ff981bae805f29e8f8 = L.circleMarker(\n",
       "                [-39.72416666666667, -71.58388888888888],\n",
       "                {&quot;bubblingMouseEvents&quot;: true, &quot;color&quot;: &quot;gray&quot;, &quot;dashArray&quot;: null, &quot;dashOffset&quot;: null, &quot;fill&quot;: true, &quot;fillColor&quot;: &quot;gray&quot;, &quot;fillOpacity&quot;: 0.2, &quot;fillRule&quot;: &quot;evenodd&quot;, &quot;lineCap&quot;: &quot;round&quot;, &quot;lineJoin&quot;: &quot;round&quot;, &quot;opacity&quot;: 1.0, &quot;radius&quot;: 6, &quot;stroke&quot;: true, &quot;weight&quot;: 3}\n",
       "            ).addTo(map_445dda8ffb24661ffd9807c795c1b973);\n",
       "        \n",
       "    \n",
       "        var popup_02b1086e0257e4933687eb93abe9c281 = L.popup({\n",
       "  &quot;maxWidth&quot;: &quot;100%&quot;,\n",
       "});\n",
       "\n",
       "        \n",
       "            \n",
       "                var html_184045e6610ec0fac9c9130ee99821e5 = $(`&lt;div id=&quot;html_184045e6610ec0fac9c9130ee99821e5&quot; style=&quot;width: 100.0%; height: 100.0%;&quot;&gt;Lago Paimún&lt;/div&gt;`)[0];\n",
       "                popup_02b1086e0257e4933687eb93abe9c281.setContent(html_184045e6610ec0fac9c9130ee99821e5);\n",
       "            \n",
       "        \n",
       "\n",
       "        circle_marker_ed3dbee176d884ff981bae805f29e8f8.bindPopup(popup_02b1086e0257e4933687eb93abe9c281)\n",
       "        ;\n",
       "\n",
       "        \n",
       "    \n",
       "    \n",
       "            var circle_marker_69883b8c1109502cc3022e94e863ac52 = L.circleMarker(\n",
       "                [-47.84583333333334, -72.27027777777778],\n",
       "                {&quot;bubblingMouseEvents&quot;: true, &quot;color&quot;: &quot;gray&quot;, &quot;dashArray&quot;: null, &quot;dashOffset&quot;: null, &quot;fill&quot;: true, &quot;fillColor&quot;: &quot;gray&quot;, &quot;fillOpacity&quot;: 0.2, &quot;fillRule&quot;: &quot;evenodd&quot;, &quot;lineCap&quot;: &quot;round&quot;, &quot;lineJoin&quot;: &quot;round&quot;, &quot;opacity&quot;: 1.0, &quot;radius&quot;: 6, &quot;stroke&quot;: true, &quot;weight&quot;: 3}\n",
       "            ).addTo(map_445dda8ffb24661ffd9807c795c1b973);\n",
       "        \n",
       "    \n",
       "        var popup_6f5fd3ddbec18966373eb06ab0ff7e9e = L.popup({\n",
       "  &quot;maxWidth&quot;: &quot;100%&quot;,\n",
       "});\n",
       "\n",
       "        \n",
       "            \n",
       "                var html_db309b36399d7b8c506ef0eb14c0700f = $(`&lt;div id=&quot;html_db309b36399d7b8c506ef0eb14c0700f&quot; style=&quot;width: 100.0%; height: 100.0%;&quot;&gt;Lago Azara&lt;/div&gt;`)[0];\n",
       "                popup_6f5fd3ddbec18966373eb06ab0ff7e9e.setContent(html_db309b36399d7b8c506ef0eb14c0700f);\n",
       "            \n",
       "        \n",
       "\n",
       "        circle_marker_69883b8c1109502cc3022e94e863ac52.bindPopup(popup_6f5fd3ddbec18966373eb06ab0ff7e9e)\n",
       "        ;\n",
       "\n",
       "        \n",
       "    \n",
       "    \n",
       "            var circle_marker_2d307fac346938addbcffbf82bcf6890 = L.circleMarker(\n",
       "                [-47.95555555555556, -72.2025],\n",
       "                {&quot;bubblingMouseEvents&quot;: true, &quot;color&quot;: &quot;gray&quot;, &quot;dashArray&quot;: null, &quot;dashOffset&quot;: null, &quot;fill&quot;: true, &quot;fillColor&quot;: &quot;gray&quot;, &quot;fillOpacity&quot;: 0.2, &quot;fillRule&quot;: &quot;evenodd&quot;, &quot;lineCap&quot;: &quot;round&quot;, &quot;lineJoin&quot;: &quot;round&quot;, &quot;opacity&quot;: 1.0, &quot;radius&quot;: 6, &quot;stroke&quot;: true, &quot;weight&quot;: 3}\n",
       "            ).addTo(map_445dda8ffb24661ffd9807c795c1b973);\n",
       "        \n",
       "    \n",
       "        var popup_8fdbf27e8aa1836c9a60a68df618a367 = L.popup({\n",
       "  &quot;maxWidth&quot;: &quot;100%&quot;,\n",
       "});\n",
       "\n",
       "        \n",
       "            \n",
       "                var html_354304670075d8826e243447e9cc34f9 = $(`&lt;div id=&quot;html_354304670075d8826e243447e9cc34f9&quot; style=&quot;width: 100.0%; height: 100.0%;&quot;&gt;Lago Burmeister&lt;/div&gt;`)[0];\n",
       "                popup_8fdbf27e8aa1836c9a60a68df618a367.setContent(html_354304670075d8826e243447e9cc34f9);\n",
       "            \n",
       "        \n",
       "\n",
       "        circle_marker_2d307fac346938addbcffbf82bcf6890.bindPopup(popup_8fdbf27e8aa1836c9a60a68df618a367)\n",
       "        ;\n",
       "\n",
       "        \n",
       "    \n",
       "    \n",
       "            var circle_marker_2d0cb8e7475998d8cf9c2decb05c8ebc = L.circleMarker(\n",
       "                [-50.10833333333333, -73.34972222222221],\n",
       "                {&quot;bubblingMouseEvents&quot;: true, &quot;color&quot;: &quot;gray&quot;, &quot;dashArray&quot;: null, &quot;dashOffset&quot;: null, &quot;fill&quot;: true, &quot;fillColor&quot;: &quot;gray&quot;, &quot;fillOpacity&quot;: 0.2, &quot;fillRule&quot;: &quot;evenodd&quot;, &quot;lineCap&quot;: &quot;round&quot;, &quot;lineJoin&quot;: &quot;round&quot;, &quot;opacity&quot;: 1.0, &quot;radius&quot;: 6, &quot;stroke&quot;: true, &quot;weight&quot;: 3}\n",
       "            ).addTo(map_445dda8ffb24661ffd9807c795c1b973);\n",
       "        \n",
       "    \n",
       "        var popup_b12cf1eac4babe76a9285154bd9b9de0 = L.popup({\n",
       "  &quot;maxWidth&quot;: &quot;100%&quot;,\n",
       "});\n",
       "\n",
       "        \n",
       "            \n",
       "                var html_b6438c7b844c3aadbfd0494e75fe6b5a = $(`&lt;div id=&quot;html_b6438c7b844c3aadbfd0494e75fe6b5a&quot; style=&quot;width: 100.0%; height: 100.0%;&quot;&gt;Lago Onelli&lt;/div&gt;`)[0];\n",
       "                popup_b12cf1eac4babe76a9285154bd9b9de0.setContent(html_b6438c7b844c3aadbfd0494e75fe6b5a);\n",
       "            \n",
       "        \n",
       "\n",
       "        circle_marker_2d0cb8e7475998d8cf9c2decb05c8ebc.bindPopup(popup_b12cf1eac4babe76a9285154bd9b9de0)\n",
       "        ;\n",
       "\n",
       "        \n",
       "    \n",
       "    \n",
       "            var circle_marker_9756b6cf83d2c13462b76af4e1f9680f = L.circleMarker(\n",
       "                [-40.333333333333336, -71.31944444444444],\n",
       "                {&quot;bubblingMouseEvents&quot;: true, &quot;color&quot;: &quot;gray&quot;, &quot;dashArray&quot;: null, &quot;dashOffset&quot;: null, &quot;fill&quot;: true, &quot;fillColor&quot;: &quot;gray&quot;, &quot;fillOpacity&quot;: 0.2, &quot;fillRule&quot;: &quot;evenodd&quot;, &quot;lineCap&quot;: &quot;round&quot;, &quot;lineJoin&quot;: &quot;round&quot;, &quot;opacity&quot;: 1.0, &quot;radius&quot;: 6, &quot;stroke&quot;: true, &quot;weight&quot;: 3}\n",
       "            ).addTo(map_445dda8ffb24661ffd9807c795c1b973);\n",
       "        \n",
       "    \n",
       "        var popup_5cd23fd690d777c66017cb526f5653e5 = L.popup({\n",
       "  &quot;maxWidth&quot;: &quot;100%&quot;,\n",
       "});\n",
       "\n",
       "        \n",
       "            \n",
       "                var html_2639a7fbf13c45d8439b203e2ac63f19 = $(`&lt;div id=&quot;html_2639a7fbf13c45d8439b203e2ac63f19&quot; style=&quot;width: 100.0%; height: 100.0%;&quot;&gt;Lago Meliquina&lt;/div&gt;`)[0];\n",
       "                popup_5cd23fd690d777c66017cb526f5653e5.setContent(html_2639a7fbf13c45d8439b203e2ac63f19);\n",
       "            \n",
       "        \n",
       "\n",
       "        circle_marker_9756b6cf83d2c13462b76af4e1f9680f.bindPopup(popup_5cd23fd690d777c66017cb526f5653e5)\n",
       "        ;\n",
       "\n",
       "        \n",
       "    \n",
       "    \n",
       "            var circle_marker_35e52d3ebf09d54226f84e118c977027 = L.circleMarker(\n",
       "                [-41.06611111111111, -71.5411111111111],\n",
       "                {&quot;bubblingMouseEvents&quot;: true, &quot;color&quot;: &quot;gray&quot;, &quot;dashArray&quot;: null, &quot;dashOffset&quot;: null, &quot;fill&quot;: true, &quot;fillColor&quot;: &quot;gray&quot;, &quot;fillOpacity&quot;: 0.2, &quot;fillRule&quot;: &quot;evenodd&quot;, &quot;lineCap&quot;: &quot;round&quot;, &quot;lineJoin&quot;: &quot;round&quot;, &quot;opacity&quot;: 1.0, &quot;radius&quot;: 6, &quot;stroke&quot;: true, &quot;weight&quot;: 3}\n",
       "            ).addTo(map_445dda8ffb24661ffd9807c795c1b973);\n",
       "        \n",
       "    \n",
       "        var popup_812201019f228a24c2dda5c349e40d7d = L.popup({\n",
       "  &quot;maxWidth&quot;: &quot;100%&quot;,\n",
       "});\n",
       "\n",
       "        \n",
       "            \n",
       "                var html_8798d5de9afc5c9c5218731ff119bdc3 = $(`&lt;div id=&quot;html_8798d5de9afc5c9c5218731ff119bdc3&quot; style=&quot;width: 100.0%; height: 100.0%;&quot;&gt;Lago Perito Moreno&lt;/div&gt;`)[0];\n",
       "                popup_812201019f228a24c2dda5c349e40d7d.setContent(html_8798d5de9afc5c9c5218731ff119bdc3);\n",
       "            \n",
       "        \n",
       "\n",
       "        circle_marker_35e52d3ebf09d54226f84e118c977027.bindPopup(popup_812201019f228a24c2dda5c349e40d7d)\n",
       "        ;\n",
       "\n",
       "        \n",
       "    \n",
       "    \n",
       "            var circle_marker_74ce300051f99d57dc55317defd14389 = L.circleMarker(\n",
       "                [-39.84, -71.5075],\n",
       "                {&quot;bubblingMouseEvents&quot;: true, &quot;color&quot;: &quot;gray&quot;, &quot;dashArray&quot;: null, &quot;dashOffset&quot;: null, &quot;fill&quot;: true, &quot;fillColor&quot;: &quot;gray&quot;, &quot;fillOpacity&quot;: 0.2, &quot;fillRule&quot;: &quot;evenodd&quot;, &quot;lineCap&quot;: &quot;round&quot;, &quot;lineJoin&quot;: &quot;round&quot;, &quot;opacity&quot;: 1.0, &quot;radius&quot;: 6, &quot;stroke&quot;: true, &quot;weight&quot;: 3}\n",
       "            ).addTo(map_445dda8ffb24661ffd9807c795c1b973);\n",
       "        \n",
       "    \n",
       "        var popup_3495b988cc790e66c58ba69275a4713a = L.popup({\n",
       "  &quot;maxWidth&quot;: &quot;100%&quot;,\n",
       "});\n",
       "\n",
       "        \n",
       "            \n",
       "                var html_8023a9f9ce7b219ff0273ec10005701c = $(`&lt;div id=&quot;html_8023a9f9ce7b219ff0273ec10005701c&quot; style=&quot;width: 100.0%; height: 100.0%;&quot;&gt;Lago Currhué&lt;/div&gt;`)[0];\n",
       "                popup_3495b988cc790e66c58ba69275a4713a.setContent(html_8023a9f9ce7b219ff0273ec10005701c);\n",
       "            \n",
       "        \n",
       "\n",
       "        circle_marker_74ce300051f99d57dc55317defd14389.bindPopup(popup_3495b988cc790e66c58ba69275a4713a)\n",
       "        ;\n",
       "\n",
       "        \n",
       "    \n",
       "    \n",
       "            var circle_marker_9d0c6d1a6abc53a76b532b85fbba42fc = L.circleMarker(\n",
       "                [-40.485, -71.47583333333334],\n",
       "                {&quot;bubblingMouseEvents&quot;: true, &quot;color&quot;: &quot;gray&quot;, &quot;dashArray&quot;: null, &quot;dashOffset&quot;: null, &quot;fill&quot;: true, &quot;fillColor&quot;: &quot;gray&quot;, &quot;fillOpacity&quot;: 0.2, &quot;fillRule&quot;: &quot;evenodd&quot;, &quot;lineCap&quot;: &quot;round&quot;, &quot;lineJoin&quot;: &quot;round&quot;, &quot;opacity&quot;: 1.0, &quot;radius&quot;: 6, &quot;stroke&quot;: true, &quot;weight&quot;: 3}\n",
       "            ).addTo(map_445dda8ffb24661ffd9807c795c1b973);\n",
       "        \n",
       "    \n",
       "        var popup_ecdb0b9bc379e3eb0c1aa67367ac18f6 = L.popup({\n",
       "  &quot;maxWidth&quot;: &quot;100%&quot;,\n",
       "});\n",
       "\n",
       "        \n",
       "            \n",
       "                var html_f6ec084b157cdfca0bd9a342b15fb0c2 = $(`&lt;div id=&quot;html_f6ec084b157cdfca0bd9a342b15fb0c2&quot; style=&quot;width: 100.0%; height: 100.0%;&quot;&gt;Lago Falkner&lt;/div&gt;`)[0];\n",
       "                popup_ecdb0b9bc379e3eb0c1aa67367ac18f6.setContent(html_f6ec084b157cdfca0bd9a342b15fb0c2);\n",
       "            \n",
       "        \n",
       "\n",
       "        circle_marker_9d0c6d1a6abc53a76b532b85fbba42fc.bindPopup(popup_ecdb0b9bc379e3eb0c1aa67367ac18f6)\n",
       "        ;\n",
       "\n",
       "        \n",
       "    \n",
       "    \n",
       "            var circle_marker_d388ae4a9c90ca30b80a01a2d822f6be = L.circleMarker(\n",
       "                [-44.24194444444444, -71.50222222222222],\n",
       "                {&quot;bubblingMouseEvents&quot;: true, &quot;color&quot;: &quot;gray&quot;, &quot;dashArray&quot;: null, &quot;dashOffset&quot;: null, &quot;fill&quot;: true, &quot;fillColor&quot;: &quot;gray&quot;, &quot;fillOpacity&quot;: 0.2, &quot;fillRule&quot;: &quot;evenodd&quot;, &quot;lineCap&quot;: &quot;round&quot;, &quot;lineJoin&quot;: &quot;round&quot;, &quot;opacity&quot;: 1.0, &quot;radius&quot;: 6, &quot;stroke&quot;: true, &quot;weight&quot;: 3}\n",
       "            ).addTo(map_445dda8ffb24661ffd9807c795c1b973);\n",
       "        \n",
       "    \n",
       "        var popup_2d60d4795508d6ebb4ff25cfe9d29cb9 = L.popup({\n",
       "  &quot;maxWidth&quot;: &quot;100%&quot;,\n",
       "});\n",
       "\n",
       "        \n",
       "            \n",
       "                var html_fa9800f3f2579d29933d70a319564521 = $(`&lt;div id=&quot;html_fa9800f3f2579d29933d70a319564521&quot; style=&quot;width: 100.0%; height: 100.0%;&quot;&gt;Lago Pico Nº 1&lt;/div&gt;`)[0];\n",
       "                popup_2d60d4795508d6ebb4ff25cfe9d29cb9.setContent(html_fa9800f3f2579d29933d70a319564521);\n",
       "            \n",
       "        \n",
       "\n",
       "        circle_marker_d388ae4a9c90ca30b80a01a2d822f6be.bindPopup(popup_2d60d4795508d6ebb4ff25cfe9d29cb9)\n",
       "        ;\n",
       "\n",
       "        \n",
       "    \n",
       "    \n",
       "            var circle_marker_122da25272e48c52b2a04e5305a7ddec = L.circleMarker(\n",
       "                [-54.68861111111111, -65.80638888888889],\n",
       "                {&quot;bubblingMouseEvents&quot;: true, &quot;color&quot;: &quot;gray&quot;, &quot;dashArray&quot;: null, &quot;dashOffset&quot;: null, &quot;fill&quot;: true, &quot;fillColor&quot;: &quot;gray&quot;, &quot;fillOpacity&quot;: 0.2, &quot;fillRule&quot;: &quot;evenodd&quot;, &quot;lineCap&quot;: &quot;round&quot;, &quot;lineJoin&quot;: &quot;round&quot;, &quot;opacity&quot;: 1.0, &quot;radius&quot;: 6, &quot;stroke&quot;: true, &quot;weight&quot;: 3}\n",
       "            ).addTo(map_445dda8ffb24661ffd9807c795c1b973);\n",
       "        \n",
       "    \n",
       "        var popup_28a56a33fd62e609fe6d2e6eb609f704 = L.popup({\n",
       "  &quot;maxWidth&quot;: &quot;100%&quot;,\n",
       "});\n",
       "\n",
       "        \n",
       "            \n",
       "                var html_fc3217d858794acdcf5f4a69c6172137 = $(`&lt;div id=&quot;html_fc3217d858794acdcf5f4a69c6172137&quot; style=&quot;width: 100.0%; height: 100.0%;&quot;&gt;Lago Río Bueno&lt;/div&gt;`)[0];\n",
       "                popup_28a56a33fd62e609fe6d2e6eb609f704.setContent(html_fc3217d858794acdcf5f4a69c6172137);\n",
       "            \n",
       "        \n",
       "\n",
       "        circle_marker_122da25272e48c52b2a04e5305a7ddec.bindPopup(popup_28a56a33fd62e609fe6d2e6eb609f704)\n",
       "        ;\n",
       "\n",
       "        \n",
       "    \n",
       "    \n",
       "            var circle_marker_d8db1df8c785abcbd6251179656b2b53 = L.circleMarker(\n",
       "                [-43.26, -71.34666666666666],\n",
       "                {&quot;bubblingMouseEvents&quot;: true, &quot;color&quot;: &quot;gray&quot;, &quot;dashArray&quot;: null, &quot;dashOffset&quot;: null, &quot;fill&quot;: true, &quot;fillColor&quot;: &quot;gray&quot;, &quot;fillOpacity&quot;: 0.2, &quot;fillRule&quot;: &quot;evenodd&quot;, &quot;lineCap&quot;: &quot;round&quot;, &quot;lineJoin&quot;: &quot;round&quot;, &quot;opacity&quot;: 1.0, &quot;radius&quot;: 6, &quot;stroke&quot;: true, &quot;weight&quot;: 3}\n",
       "            ).addTo(map_445dda8ffb24661ffd9807c795c1b973);\n",
       "        \n",
       "    \n",
       "        var popup_2db63257cb53b1f1ac24ba9767834d0a = L.popup({\n",
       "  &quot;maxWidth&quot;: &quot;100%&quot;,\n",
       "});\n",
       "\n",
       "        \n",
       "            \n",
       "                var html_bf5e12ad32ef1f9420f9b6a5741d1d47 = $(`&lt;div id=&quot;html_bf5e12ad32ef1f9420f9b6a5741d1d47&quot; style=&quot;width: 100.0%; height: 100.0%;&quot;&gt;Lago Rosario&lt;/div&gt;`)[0];\n",
       "                popup_2db63257cb53b1f1ac24ba9767834d0a.setContent(html_bf5e12ad32ef1f9420f9b6a5741d1d47);\n",
       "            \n",
       "        \n",
       "\n",
       "        circle_marker_d8db1df8c785abcbd6251179656b2b53.bindPopup(popup_2db63257cb53b1f1ac24ba9767834d0a)\n",
       "        ;\n",
       "\n",
       "        \n",
       "    \n",
       "&lt;/script&gt;\n",
       "&lt;/html&gt;\" style=\"position:absolute;width:100%;height:100%;left:0;top:0;border:none !important;\" allowfullscreen webkitallowfullscreen mozallowfullscreen></iframe></div></div>"
      ],
      "text/plain": [
       "<folium.folium.Map at 0x7378231cc180>"
      ]
     },
     "execution_count": 51,
     "metadata": {},
     "output_type": "execute_result"
    }
   ],
   "source": [
    "lagos.apply(agregar_marca_lago, axis=1)\n",
    "mapa"
   ]
  },
  {
   "cell_type": "code",
   "execution_count": null,
   "id": "dafa4a38-f184-4a92-b95d-828f7447f79f",
   "metadata": {},
   "outputs": [],
   "source": []
  }
 ],
 "metadata": {
  "kernelspec": {
   "display_name": "Python 3 (ipykernel)",
   "language": "python",
   "name": "python3"
  },
  "language_info": {
   "codemirror_mode": {
    "name": "ipython",
    "version": 3
   },
   "file_extension": ".py",
   "mimetype": "text/x-python",
   "name": "python",
   "nbconvert_exporter": "python",
   "pygments_lexer": "ipython3",
   "version": "3.13.3"
  }
 },
 "nbformat": 4,
 "nbformat_minor": 5
}
